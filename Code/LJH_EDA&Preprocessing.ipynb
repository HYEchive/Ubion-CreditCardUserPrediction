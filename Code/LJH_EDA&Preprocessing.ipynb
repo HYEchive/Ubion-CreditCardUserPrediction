{
 "cells": [
  {
   "cell_type": "code",
   "execution_count": 391,
   "metadata": {},
   "outputs": [],
   "source": [
    "import warnings\n",
    "warnings.filterwarnings('ignore')\n",
    "\n",
    "import numpy as np\n",
    "import pandas as pd   \n",
    "import matplotlib.pyplot as plt\n",
    "import seaborn as sns"
   ]
  },
  {
   "cell_type": "code",
   "execution_count": 392,
   "metadata": {},
   "outputs": [],
   "source": [
    "train = pd.read_csv('../Data/train.csv')\n",
    "test = pd.read_csv('../Data/test.csv')\n",
    "submission = pd.read_csv('../Data/sample_submission.csv')\n",
    "sub_train = train"
   ]
  },
  {
   "cell_type": "markdown",
   "metadata": {},
   "source": [
    "# Feature 설명\n",
    "\n",
    "index   \n",
    "gender: 성별   (o)\n",
    "car: 차량 소유 여부   (o)\n",
    "reality: 부동산 소유 여부   (o)\n",
    "child_num: 자녀 수   \n",
    "income_total: 연간 소득  (o)\n",
    "income_type: 소득 분류   \n",
    "['Commercial associate', 'Working', 'State servant', 'Pensioner', 'Student']   \n",
    "edu_type: 교육 수준   \n",
    "['Higher education' ,'Secondary / secondary special', 'Incomplete higher', 'Lower secondary', 'Academic degree']   \n",
    "family_type: 결혼 여부   \n",
    "['Married', 'Civil marriage', 'Separated', 'Single / not married', 'Widow']   \n",
    "house_type: 생활 방식   \n",
    "['Municipal apartment', 'House / apartment', 'With parents','Co-op apartment', 'Rented apartment', 'Office apartment']   \n",
    "DAYS_BIRTH: 출생일   \n",
    "데이터 수집 당시 (0)부터 역으로 셈, 즉, -1은 데이터 수집일 하루 전에 태어났음을 의미   \n",
    "DAYS_EMPLOYED: 업무 시작일   (o)   \n",
    "데이터 수집 당시 (0)부터 역으로 셈, 즉, -1은 데이터 수집일 하루 전부터 일을 시작함을 의미,양수 값은 고용되지 않은 상태를 의미함   \n",
    "FLAG_MOBIL: 핸드폰 소유 여부   \n",
    "work_phone: 업무용 전화 소유 여부   \n",
    "phone: 전화 소유 여부   \n",
    "email: 이메일 소유 여부   \n",
    "occyp_type: 직업 유형\t   \t\t\t\t\t\t\t\t\t\t\t\t\n",
    "family_size: 가족 규모   \n",
    "begin_month: 신용카드 발급 월 데이터 수집 당시 (0)부터 역으로 셈, 즉, -1은 데이터 수집일 한 달 전에 신용카드를 발급함을 의미 (o)     \n",
    "\n",
    "credit: 사용자의 신용카드 대금 연체를 기준으로 한 신용도   \n",
    "=> 낮을 수록 높은 신용의 신용카드 사용자를 의미함   \n",
    "\n"
   ]
  },
  {
   "cell_type": "markdown",
   "metadata": {},
   "source": [
    "# DEF 모음"
   ]
  },
  {
   "cell_type": "code",
   "execution_count": 393,
   "metadata": {},
   "outputs": [],
   "source": [
    "def box_value(col):\n",
    "    Q1 = abs(train[train[col] > 0][col].quantile(0.25))\n",
    "    Q2 = abs(train[train[col] > 0][col].quantile(0.50))\n",
    "    Q3 = abs(train[train[col] > 0][col].quantile(0.75))\n",
    "    IQR = Q3 - Q1\n",
    "\n",
    "    return Q1, Q2, Q3, IQR"
   ]
  },
  {
   "cell_type": "markdown",
   "metadata": {},
   "source": [
    "# Preprocessing"
   ]
  },
  {
   "cell_type": "markdown",
   "metadata": {},
   "source": [
    "## 1. DAYS_EMPLOYED"
   ]
  },
  {
   "cell_type": "code",
   "execution_count": 394,
   "metadata": {},
   "outputs": [
    {
     "data": {
      "text/plain": [
       "365243    4438\n",
       "Name: DAYS_EMPLOYED, dtype: int64"
      ]
     },
     "execution_count": 394,
     "metadata": {},
     "output_type": "execute_result"
    }
   ],
   "source": [
    "train[train['DAYS_EMPLOYED'] > 0]['DAYS_EMPLOYED'].value_counts()\n"
   ]
  },
  {
   "cell_type": "code",
   "execution_count": 395,
   "metadata": {},
   "outputs": [],
   "source": [
    "train.loc[train['DAYS_EMPLOYED'] > 0,'DAYS_EMPLOYED'] = 0\n",
    "test.loc[test['DAYS_EMPLOYED'] > 0,'DAYS_EMPLOYED'] = 0"
   ]
  },
  {
   "cell_type": "code",
   "execution_count": 396,
   "metadata": {},
   "outputs": [
    {
     "data": {
      "text/plain": [
       "<AxesSubplot:ylabel='Frequency'>"
      ]
     },
     "execution_count": 396,
     "metadata": {},
     "output_type": "execute_result"
    },
    {
     "data": {
      "image/png": "[encoded data removed]",
      "text/plain": [
       "<Figure size 432x288 with 1 Axes>"
      ]
     },
     "metadata": {
      "needs_background": "light"
     },
     "output_type": "display_data"
    }
   ],
   "source": [
    "abs(train.loc[train['DAYS_EMPLOYED'] < 0,'DAYS_EMPLOYED']).plot(kind='hist',bins=50,density=True)"
   ]
  },
  {
   "cell_type": "code",
   "execution_count": 397,
   "metadata": {},
   "outputs": [
    {
     "data": {
      "text/plain": [
       "0        4709\n",
       "1        1540\n",
       "2        4434\n",
       "3        2092\n",
       "4        2105\n",
       "         ... \n",
       "26452    1984\n",
       "26453    2475\n",
       "26454    2015\n",
       "26455     107\n",
       "26456    1013\n",
       "Name: DAYS_EMPLOYED, Length: 26457, dtype: int64"
      ]
     },
     "execution_count": 397,
     "metadata": {},
     "output_type": "execute_result"
    }
   ],
   "source": [
    "train.loc[train['DAYS_EMPLOYED'] < 0,'DAYS_EMPLOYED'] = train.loc[train['DAYS_EMPLOYED'] < 0,'DAYS_EMPLOYED'].abs()\n",
    "test.loc[test['DAYS_EMPLOYED'] < 0,'DAYS_EMPLOYED'] = test.loc[test['DAYS_EMPLOYED'] < 0,'DAYS_EMPLOYED'].abs()\n",
    "train['DAYS_EMPLOYED']"
   ]
  },
  {
   "cell_type": "code",
   "execution_count": 398,
   "metadata": {},
   "outputs": [
    {
     "data": {
      "image/png": "[encoded data removed]",
      "text/plain": [
       "<Figure size 432x288 with 1 Axes>"
      ]
     },
     "metadata": {
      "needs_background": "light"
     },
     "output_type": "display_data"
    }
   ],
   "source": [
    "plt.boxplot(abs(train[train['DAYS_EMPLOYED'] > 0]['DAYS_EMPLOYED']))\n",
    "plt.show()"
   ]
  },
  {
   "cell_type": "code",
   "execution_count": 399,
   "metadata": {},
   "outputs": [
    {
     "name": "stdout",
     "output_type": "stream",
     "text": [
      "Q1 : 969.5 Q3 : 3506.0 IQR : 2536.5\n"
     ]
    }
   ],
   "source": [
    "Q1 = abs(train[train['DAYS_EMPLOYED'] > 0]['DAYS_EMPLOYED'].quantile(0.25))\n",
    "Q2 = abs(train[train['DAYS_EMPLOYED'] > 0]['DAYS_EMPLOYED'].quantile(0.50))\n",
    "Q3 = abs(train[train['DAYS_EMPLOYED'] > 0]['DAYS_EMPLOYED'].quantile(0.75))\n",
    "IQR = Q3 - Q1\n",
    "\n",
    "print(f'Q1 : {Q1} Q3 : {Q3} IQR : {IQR}')"
   ]
  },
  {
   "cell_type": "code",
   "execution_count": 400,
   "metadata": {},
   "outputs": [],
   "source": [
    "train.loc[(train['DAYS_EMPLOYED'] <= Q1 - 1.5 * IQR) | (train['DAYS_EMPLOYED'] >= Q3 + 1.5 *IQR), 'DAYS_EMPLOYED'] = Q3\n",
    "test.loc[(test['DAYS_EMPLOYED'] <= Q1 - 1.5 * IQR) | (test['DAYS_EMPLOYED'] >= Q3 + 1.5 *IQR), 'DAYS_EMPLOYED'] = Q3"
   ]
  },
  {
   "cell_type": "code",
   "execution_count": 401,
   "metadata": {},
   "outputs": [
    {
     "data": {
      "image/png": "[encoded data removed]",
      "text/plain": [
       "<Figure size 432x288 with 1 Axes>"
      ]
     },
     "metadata": {
      "needs_background": "light"
     },
     "output_type": "display_data"
    }
   ],
   "source": [
    "plt.boxplot(abs(train[train['DAYS_EMPLOYED'] > 0]['DAYS_EMPLOYED']))\n",
    "plt.show()"
   ]
  },
  {
   "cell_type": "code",
   "execution_count": 402,
   "metadata": {},
   "outputs": [],
   "source": [
    "def dayEMP_category(day_ep):\n",
    "    ep = ''\n",
    "    if day_ep == 0: ep = 0\n",
    "    elif day_ep <= Q1: ep = 1\n",
    "    elif day_ep <= Q2: ep = 2\n",
    "    elif day_ep <= Q3: ep = 3\n",
    "    elif day_ep > Q3: ep = 4\n",
    "       \n",
    "    return ep\n"
   ]
  },
  {
   "cell_type": "code",
   "execution_count": 403,
   "metadata": {},
   "outputs": [],
   "source": [
    "train['DAYS_EMPLOYED'] = train['DAYS_EMPLOYED'].apply(lambda x : dayEMP_category(x))\n",
    "test['DAYS_EMPLOYED'] = test['DAYS_EMPLOYED'].apply(lambda x : dayEMP_category(x))"
   ]
  },
  {
   "cell_type": "code",
   "execution_count": 404,
   "metadata": {},
   "outputs": [
    {
     "data": {
      "text/plain": [
       "3    6763\n",
       "2    5506\n",
       "1    5505\n",
       "0    4438\n",
       "4    4245\n",
       "Name: DAYS_EMPLOYED, dtype: int64"
      ]
     },
     "execution_count": 404,
     "metadata": {},
     "output_type": "execute_result"
    }
   ],
   "source": [
    "train['DAYS_EMPLOYED'].value_counts()"
   ]
  },
  {
   "cell_type": "markdown",
   "metadata": {},
   "source": [
    "## Begin_month"
   ]
  },
  {
   "cell_type": "code",
   "execution_count": 405,
   "metadata": {},
   "outputs": [
    {
     "data": {
      "text/plain": [
       "<AxesSubplot:ylabel='Frequency'>"
      ]
     },
     "execution_count": 405,
     "metadata": {},
     "output_type": "execute_result"
    },
    {
     "data": {
      "image/png": "[encoded data removed]",
      "text/plain": [
       "<Figure size 432x288 with 1 Axes>"
      ]
     },
     "metadata": {
      "needs_background": "light"
     },
     "output_type": "display_data"
    }
   ],
   "source": [
    "abs(train['begin_month']).plot(kind='hist', bins = 10)"
   ]
  },
  {
   "cell_type": "code",
   "execution_count": 406,
   "metadata": {},
   "outputs": [],
   "source": [
    "train['begin_month'] = train['begin_month'].abs()\n",
    "test['begin_month'] = test['begin_month'].abs()"
   ]
  },
  {
   "cell_type": "code",
   "execution_count": 407,
   "metadata": {},
   "outputs": [],
   "source": [
    "begin_catagory = [0,1,1,2,2,3,3,4,4,4]\n",
    "train['begin_month'] = pd.cut(train['begin_month'], bins = 10, labels= begin_catagory, ordered= False)\n",
    "test['begin_month'] = pd.cut(test['begin_month'], bins = 10, labels= begin_catagory, ordered= False)"
   ]
  },
  {
   "cell_type": "code",
   "execution_count": 408,
   "metadata": {},
   "outputs": [
    {
     "data": {
      "text/plain": [
       "1    6911\n",
       "2    5773\n",
       "4    5362\n",
       "3    4965\n",
       "0    3446\n",
       "Name: begin_month, dtype: int64"
      ]
     },
     "execution_count": 408,
     "metadata": {},
     "output_type": "execute_result"
    }
   ],
   "source": [
    "train['begin_month'].value_counts()"
   ]
  },
  {
   "cell_type": "markdown",
   "metadata": {},
   "source": [
    "## income_total"
   ]
  },
  {
   "cell_type": "code",
   "execution_count": 409,
   "metadata": {},
   "outputs": [
    {
     "data": {
      "text/plain": [
       "<AxesSubplot:ylabel='Frequency'>"
      ]
     },
     "execution_count": 409,
     "metadata": {},
     "output_type": "execute_result"
    },
    {
     "data": {
      "image/png": "[encoded data removed]",
      "text/plain": [
       "<Figure size 432x288 with 1 Axes>"
      ]
     },
     "metadata": {
      "needs_background": "light"
     },
     "output_type": "display_data"
    }
   ],
   "source": [
    "(train['income_total']/1000).plot(kind = 'hist', bins = 50)"
   ]
  },
  {
   "cell_type": "code",
   "execution_count": 410,
   "metadata": {},
   "outputs": [
    {
     "data": {
      "image/png": "[encoded data removed]",
      "text/plain": [
       "<Figure size 432x288 with 1 Axes>"
      ]
     },
     "metadata": {
      "needs_background": "light"
     },
     "output_type": "display_data"
    }
   ],
   "source": [
    "plt.boxplot(train['income_total'])\n",
    "plt.show()"
   ]
  },
  {
   "cell_type": "code",
   "execution_count": 411,
   "metadata": {},
   "outputs": [],
   "source": [
    "Q1 = box_value('income_total')[0]\n",
    "Q2 = box_value('income_total')[1]\n",
    "Q3 = box_value('income_total')[2]\n",
    "IQR = box_value('income_total')[3]"
   ]
  },
  {
   "cell_type": "code",
   "execution_count": 412,
   "metadata": {},
   "outputs": [],
   "source": [
    "train.loc[(train['income_total'] <= Q1 - 1.5 * IQR) | (train['income_total'] >= Q3 + 1.5 *IQR), 'income_total'] = Q3 + IQR/3\n",
    "test.loc[(test['income_total'] <= Q1 - 1.5 * IQR) | (test['income_total'] >= Q3 + 1.5 *IQR), 'income_total'] = Q3 + IQR/3"
   ]
  },
  {
   "cell_type": "code",
   "execution_count": 413,
   "metadata": {},
   "outputs": [
    {
     "data": {
      "image/png": "[encoded data removed]",
      "text/plain": [
       "<Figure size 432x288 with 1 Axes>"
      ]
     },
     "metadata": {
      "needs_background": "light"
     },
     "output_type": "display_data"
    }
   ],
   "source": [
    "plt.boxplot(train['income_total'])\n",
    "plt.show()"
   ]
  },
  {
   "cell_type": "code",
   "execution_count": 414,
   "metadata": {},
   "outputs": [],
   "source": [
    "def box_category(value):\n",
    "    ep = ''\n",
    "    if value <= Q1: ep = 0\n",
    "    elif value <= Q2: ep = 1\n",
    "    elif value <= Q3: ep = 2\n",
    "    elif value > Q3: ep = 3\n",
    "       \n",
    "    return ep"
   ]
  },
  {
   "cell_type": "code",
   "execution_count": 415,
   "metadata": {},
   "outputs": [],
   "source": [
    "train['income_total'] = train['income_total'].apply(lambda x : box_category(x))\n",
    "test['income_total'] = test['income_total'].apply(lambda x : box_category(x))"
   ]
  },
  {
   "cell_type": "code",
   "execution_count": 416,
   "metadata": {},
   "outputs": [
    {
     "data": {
      "text/plain": [
       "2    7334\n",
       "0    6751\n",
       "1    6685\n",
       "3    5687\n",
       "Name: income_total, dtype: int64"
      ]
     },
     "execution_count": 416,
     "metadata": {},
     "output_type": "execute_result"
    }
   ],
   "source": [
    "train['income_total'].value_counts()"
   ]
  },
  {
   "cell_type": "markdown",
   "metadata": {},
   "source": [
    "## Gender, Car, Reality"
   ]
  },
  {
   "cell_type": "code",
   "execution_count": 417,
   "metadata": {},
   "outputs": [
    {
     "name": "stdout",
     "output_type": "stream",
     "text": [
      "gender :\n",
      "0    17697\n",
      "1     8760\n",
      "Name: gender, dtype: int64\n",
      "--------------\n",
      "Having a car or not : \n",
      "0    16410\n",
      "1    10047\n",
      "Name: car, dtype: int64\n",
      "--------------\n",
      "Having house reality or not: \n",
      "1    17830\n",
      "0     8627\n",
      "Name: reality, dtype: int64\n",
      "--------------\n"
     ]
    }
   ],
   "source": [
    "train['gender'] = train['gender'].replace(['F','M'],[0,1])\n",
    "test['gender'] = test['gender'].replace(['F','M'],[0,1])\n",
    "print('gender :')\n",
    "print(train['gender'].value_counts())\n",
    "print('--------------')\n",
    "\n",
    "print('Having a car or not : ')\n",
    "train['car'] = train['car'].replace(['N','Y'],[0,1])\n",
    "test['car'] = test['car'].replace(['N','Y'],[0,1])\n",
    "print(train['car'].value_counts())\n",
    "print('--------------')\n",
    "\n",
    "print('Having house reality or not: ')\n",
    "train['reality'] = train['reality'].replace(['N','Y'],[0,1])\n",
    "test['reality'] = test['reality'].replace(['N','Y'],[0,1])\n",
    "print(train['reality'].value_counts())\n",
    "print('--------------')"
   ]
  },
  {
   "cell_type": "code",
   "execution_count": 418,
   "metadata": {},
   "outputs": [
    {
     "name": "stdout",
     "output_type": "stream",
     "text": [
      "<class 'pandas.core.frame.DataFrame'>\n",
      "RangeIndex: 26457 entries, 0 to 26456\n",
      "Data columns (total 20 columns):\n",
      " #   Column         Non-Null Count  Dtype   \n",
      "---  ------         --------------  -----   \n",
      " 0   index          26457 non-null  int64   \n",
      " 1   gender         26457 non-null  int64   \n",
      " 2   car            26457 non-null  int64   \n",
      " 3   reality        26457 non-null  int64   \n",
      " 4   child_num      26457 non-null  int64   \n",
      " 5   income_total   26457 non-null  int64   \n",
      " 6   income_type    26457 non-null  object  \n",
      " 7   edu_type       26457 non-null  object  \n",
      " 8   family_type    26457 non-null  object  \n",
      " 9   house_type     26457 non-null  object  \n",
      " 10  DAYS_BIRTH     26457 non-null  int64   \n",
      " 11  DAYS_EMPLOYED  26457 non-null  int64   \n",
      " 12  FLAG_MOBIL     26457 non-null  int64   \n",
      " 13  work_phone     26457 non-null  int64   \n",
      " 14  phone          26457 non-null  int64   \n",
      " 15  email          26457 non-null  int64   \n",
      " 16  occyp_type     18286 non-null  object  \n",
      " 17  family_size    26457 non-null  float64 \n",
      " 18  begin_month    26457 non-null  category\n",
      " 19  credit         26457 non-null  float64 \n",
      "dtypes: category(1), float64(2), int64(12), object(5)\n",
      "memory usage: 3.9+ MB\n"
     ]
    }
   ],
   "source": [
    "train.info()"
   ]
  },
  {
   "cell_type": "markdown",
   "metadata": {},
   "source": [
    "## DAYS_BIRTH"
   ]
  },
  {
   "cell_type": "code",
   "execution_count": 421,
   "metadata": {},
   "outputs": [],
   "source": [
    "train['DAYS_BIRTH'] = (train['DAYS_BIRTH'].abs()/365).astype(int)\n",
    "test['DAYS_BIRTH'] = (test['DAYS_BIRTH'].abs()/365).astype(int)"
   ]
  },
  {
   "cell_type": "code",
   "execution_count": 420,
   "metadata": {},
   "outputs": [
    {
     "data": {
      "text/plain": [
       "0        38\n",
       "1        31\n",
       "2        52\n",
       "3        41\n",
       "4        41\n",
       "         ..\n",
       "26452    33\n",
       "26453    41\n",
       "26454    27\n",
       "26455    27\n",
       "26456    53\n",
       "Name: DAYS_BIRTH, Length: 26457, dtype: int32"
      ]
     },
     "execution_count": 420,
     "metadata": {},
     "output_type": "execute_result"
    }
   ],
   "source": [
    "train['DAYS_BIRTH']"
   ]
  },
  {
   "cell_type": "code",
   "execution_count": null,
   "metadata": {},
   "outputs": [],
   "source": []
  }
 ],
 "metadata": {
  "interpreter": {
   "hash": "71b59b5ba49ad06bb2a011e750699e3983d230921f30bf7f37eb3a01ae69aa26"
  },
  "kernelspec": {
   "display_name": "Python 3.9.6 64-bit",
   "name": "python3"
  },
  "language_info": {
   "codemirror_mode": {
    "name": "ipython",
    "version": 3
   },
   "file_extension": ".py",
   "mimetype": "text/x-python",
   "name": "python",
   "nbconvert_exporter": "python",
   "pygments_lexer": "ipython3",
   "version": "3.9.6"
  },
  "orig_nbformat": 4
 },
 "nbformat": 4,
 "nbformat_minor": 2
}
