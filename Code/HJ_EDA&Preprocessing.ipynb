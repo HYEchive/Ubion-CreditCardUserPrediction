{
 "cells": [
  {
   "cell_type": "markdown",
   "metadata": {},
   "source": [
    "# **주제**  \n",
    "### : 신용카드 사용자 데이터를 보고 사용자의 대금 연체 정도를 예측하는 알고리즘 개발 "
   ]
  },
  {
   "cell_type": "markdown",
   "metadata": {},
   "source": [
    "# **배경 및 대회 설명**\n",
    "### - 신용카드사는 신용카드 신청자가 제출한 개인정보와 데이터를 활용해 신용 점수를 산정  \n",
    "### - 신용카드사는 이 신용 점수를 활용해 신청자의 향후 채무 불이행과 신용카드 대금 연체 가능성을 예측  \n",
    "### - 목표 : 신용카드 사용자들의 개인 신상정보 데이터로 사용자의 신용카드 대금 연체 정도를 예측"
   ]
  },
  {
   "cell_type": "markdown",
   "metadata": {},
   "source": [
    "---"
   ]
  },
  {
   "cell_type": "markdown",
   "metadata": {},
   "source": [
    "# **1. 변수 설명**"
   ]
  },
  {
   "cell_type": "markdown",
   "metadata": {},
   "source": [
    "- index<br>\n",
    "- gender: 성별<br>\n",
    "- car: 차량 소유 여부<br>\n",
    "- reality: 부동산 소유 여부<br>\n",
    "- child_num: 자녀 수<br>\n",
    "- income_total: 연간 소득<br>\n",
    "- income_type: 소득 분류<br>\n",
    "\t['Commercial associate', 'Working', 'State servant', 'Pensioner', 'Student']<br>\n",
    "- edu_type: 교육 수준<br>\n",
    "\t['Higher education' ,'Secondary / secondary special', 'Incomplete higher', 'Lower secondary', 'Academic degree']\n",
    "- family_type: 결혼 여부<br>\n",
    "\t['Married', 'Civil marriage', 'Separated', 'Single / not married', 'Widow']<br>\n",
    "- house_type: 생활 방식<br>\n",
    "\t['Municipal apartment', 'House / apartment', 'With parents', 'Co-op apartment', 'Rented apartment', 'Office apartment']<br>\n",
    "- DAYS_BIRTH: 출생일<br>\n",
    "\t=> 데이터 수집 당시 (0)부터 역으로 셈, 즉, -1은 데이터 수집일 하루 전에 태어났음을 의미<br>\n",
    "- DAYS_EMPLOYED: 업무 시작일<br>\n",
    "\t=> 데이터 수집 당시 (0)부터 역으로 셈, 즉, -1은 데이터 수집일 하루 전부터 일을 시작함을 의미<br>\n",
    "\t=> 양수 값은 고용되지 않은 상태를 의미함<br>\n",
    "- FLAG_MOBIL: 핸드폰 소유 여부<br>\n",
    "- work_phone: 업무용 전화 소유 여부<br>\n",
    "- phone: 전화 소유 여부<br>\n",
    "- email: 이메일 소유 여부<br>\n",
    "- occyp_type: 직업 유형<br>\n",
    "\t[nan, 'Laborers', 'Managers', 'Sales staff','High skill tech staff', 'Core staff', 'Drivers', 'Medicine staff',<br>\n",
    "       'Accountants', 'Realty agents', 'Security staff', 'Cleaning staff','Private service staff', 'Cooking staff', 'Secretaries',<br>\n",
    "       'HR staff', 'IT staff', 'Low-skill Laborers','Waiters/barmen staff']<br>\t\t\t\t\t\t\t\t\t\t\t\n",
    "- family_size: 가족 규모<br>\n",
    "- begin_month: 신용카드 발급 월<br>\n",
    "\t=> 데이터 수집 당시 (0)부터 역으로 셈, 즉, -1은 데이터 수집일 한 달 전에 신용카드를 발급함을 의미<br>\n",
    "- credit: 사용자의 신용카드 대금 연체를 기준으로 한 신용도<br>\n",
    "\t=> 낮을 수록 높은 신용의 신용카드 사용자를 의미함"
   ]
  },
  {
   "cell_type": "markdown",
   "metadata": {},
   "source": [
    "- day_employed 전처리\n",
    "- day_birth 전처리"
   ]
  },
  {
   "cell_type": "code",
   "execution_count": 165,
   "metadata": {},
   "outputs": [],
   "source": [
    "import pandas as pd\n",
    "import numpy as np"
   ]
  },
  {
   "cell_type": "code",
   "execution_count": 166,
   "metadata": {},
   "outputs": [],
   "source": [
    "train = pd.read_csv('../Data/train.csv')\n",
    "test = pd.read_csv('../Data/test.csv')\n",
    "submission = pd.read_csv('../Data/sample_submission.csv')\n",
    "subtrain = train"
   ]
  },
  {
   "cell_type": "markdown",
   "metadata": {},
   "source": [
    "- index<br>\n",
    "- gender: 성별<br>\n",
    "- car: 차량 소유 여부<br>\n",
    "- reality: 부동산 소유 여부<br>\n",
    "- child_num: 자녀 수<br>\n",
    "- income_total: 연간 소득<br>\n",
    "- income_type: 소득 분류<br>\n",
    "\t['Commercial associate', 'Working', 'State servant', 'Pensioner', 'Student']<br>\n",
    "- edu_type: 교육 수준<br>\n",
    "\t['Higher education' ,'Secondary / secondary special', 'Incomplete higher', 'Lower secondary', 'Academic degree']\n",
    "- family_type: 결혼 여부<br>\n",
    "\t['Married', 'Civil marriage', 'Separated', 'Single / not married', 'Widow']<br>\n",
    "- house_type: 생활 방식<br>\n",
    "\t['Municipal apartment', 'House / apartment', 'With parents', 'Co-op apartment', 'Rented apartment', 'Office apartment']<br>\n",
    "- DAYS_BIRTH: 출생일<br>\n",
    "\t=> 데이터 수집 당시 (0)부터 역으로 셈, 즉, -1은 데이터 수집일 하루 전에 태어났음을 의미<br>\n",
    "- DAYS_EMPLOYED: 업무 시작일<br>\n",
    "\t=> 데이터 수집 당시 (0)부터 역으로 셈, 즉, -1은 데이터 수집일 하루 전부터 일을 시작함을 의미<br>\n",
    "\t=> 양수 값은 고용되지 않은 상태를 의미함<br>\n",
    "- FLAG_MOBIL: 핸드폰 소유 여부<br>\n",
    "- work_phone: 업무용 전화 소유 여부<br>\n",
    "- phone: 전화 소유 여부<br>\n",
    "- email: 이메일 소유 여부<br>\n",
    "- occyp_type: 직업 유형<br>\n",
    "\t[nan, 'Laborers', 'Managers', 'Sales staff','High skill tech staff', 'Core staff', 'Drivers', 'Medicine staff',<br>\n",
    "       'Accountants', 'Realty agents', 'Security staff', 'Cleaning staff','Private service staff', 'Cooking staff', 'Secretaries',<br>\n",
    "       'HR staff', 'IT staff', 'Low-skill Laborers','Waiters/barmen staff']<br>\t\t\t\t\t\t\t\t\t\t\t\n",
    "- family_size: 가족 규모<br>\n",
    "- begin_month: 신용카드 발급 월<br>\n",
    "\t=> 데이터 수집 당시 (0)부터 역으로 셈, 즉, -1은 데이터 수집일 한 달 전에 신용카드를 발급함을 의미<br>\n",
    "- credit: 사용자의 신용카드 대금 연체를 기준으로 한 신용도<br>\n",
    "\t=> 낮을 수록 높은 신용의 신용카드 사용자를 의미함"
   ]
  },
  {
   "cell_type": "code",
   "execution_count": 167,
   "metadata": {},
   "outputs": [
    {
     "name": "stdout",
     "output_type": "stream",
     "text": [
      "<class 'pandas.core.frame.DataFrame'>\n",
      "RangeIndex: 26457 entries, 0 to 26456\n",
      "Data columns (total 20 columns):\n",
      " #   Column         Non-Null Count  Dtype  \n",
      "---  ------         --------------  -----  \n",
      " 0   index          26457 non-null  int64  \n",
      " 1   gender         26457 non-null  object \n",
      " 2   car            26457 non-null  object \n",
      " 3   reality        26457 non-null  object \n",
      " 4   child_num      26457 non-null  int64  \n",
      " 5   income_total   26457 non-null  float64\n",
      " 6   income_type    26457 non-null  object \n",
      " 7   edu_type       26457 non-null  object \n",
      " 8   family_type    26457 non-null  object \n",
      " 9   house_type     26457 non-null  object \n",
      " 10  DAYS_BIRTH     26457 non-null  int64  \n",
      " 11  DAYS_EMPLOYED  26457 non-null  int64  \n",
      " 12  FLAG_MOBIL     26457 non-null  int64  \n",
      " 13  work_phone     26457 non-null  int64  \n",
      " 14  phone          26457 non-null  int64  \n",
      " 15  email          26457 non-null  int64  \n",
      " 16  occyp_type     18286 non-null  object \n",
      " 17  family_size    26457 non-null  float64\n",
      " 18  begin_month    26457 non-null  float64\n",
      " 19  credit         26457 non-null  float64\n",
      "dtypes: float64(4), int64(8), object(8)\n",
      "memory usage: 4.0+ MB\n"
     ]
    }
   ],
   "source": [
    "train.info()"
   ]
  },
  {
   "cell_type": "code",
   "execution_count": 168,
   "metadata": {},
   "outputs": [
    {
     "data": {
      "text/html": [
       "<div>\n",
       "<style scoped>\n",
       "    .dataframe tbody tr th:only-of-type {\n",
       "        vertical-align: middle;\n",
       "    }\n",
       "\n",
       "    .dataframe tbody tr th {\n",
       "        vertical-align: top;\n",
       "    }\n",
       "\n",
       "    .dataframe thead th {\n",
       "        text-align: right;\n",
       "    }\n",
       "</style>\n",
       "<table border=\"1\" class=\"dataframe\">\n",
       "  <thead>\n",
       "    <tr style=\"text-align: right;\">\n",
       "      <th></th>\n",
       "      <th>index</th>\n",
       "      <th>gender</th>\n",
       "      <th>car</th>\n",
       "      <th>reality</th>\n",
       "      <th>child_num</th>\n",
       "      <th>income_total</th>\n",
       "      <th>income_type</th>\n",
       "      <th>edu_type</th>\n",
       "      <th>family_type</th>\n",
       "      <th>house_type</th>\n",
       "      <th>DAYS_BIRTH</th>\n",
       "      <th>DAYS_EMPLOYED</th>\n",
       "      <th>FLAG_MOBIL</th>\n",
       "      <th>work_phone</th>\n",
       "      <th>phone</th>\n",
       "      <th>email</th>\n",
       "      <th>family_size</th>\n",
       "      <th>begin_month</th>\n",
       "      <th>credit</th>\n",
       "    </tr>\n",
       "  </thead>\n",
       "  <tbody>\n",
       "    <tr>\n",
       "      <th>0</th>\n",
       "      <td>0</td>\n",
       "      <td>F</td>\n",
       "      <td>N</td>\n",
       "      <td>N</td>\n",
       "      <td>0</td>\n",
       "      <td>202500.0</td>\n",
       "      <td>Commercial associate</td>\n",
       "      <td>Higher education</td>\n",
       "      <td>Married</td>\n",
       "      <td>Municipal apartment</td>\n",
       "      <td>-13899</td>\n",
       "      <td>-4709</td>\n",
       "      <td>1</td>\n",
       "      <td>0</td>\n",
       "      <td>0</td>\n",
       "      <td>0</td>\n",
       "      <td>2.0</td>\n",
       "      <td>-6.0</td>\n",
       "      <td>1.0</td>\n",
       "    </tr>\n",
       "    <tr>\n",
       "      <th>1</th>\n",
       "      <td>1</td>\n",
       "      <td>F</td>\n",
       "      <td>N</td>\n",
       "      <td>Y</td>\n",
       "      <td>1</td>\n",
       "      <td>247500.0</td>\n",
       "      <td>Commercial associate</td>\n",
       "      <td>Secondary / secondary special</td>\n",
       "      <td>Civil marriage</td>\n",
       "      <td>House / apartment</td>\n",
       "      <td>-11380</td>\n",
       "      <td>-1540</td>\n",
       "      <td>1</td>\n",
       "      <td>0</td>\n",
       "      <td>0</td>\n",
       "      <td>1</td>\n",
       "      <td>3.0</td>\n",
       "      <td>-5.0</td>\n",
       "      <td>1.0</td>\n",
       "    </tr>\n",
       "    <tr>\n",
       "      <th>2</th>\n",
       "      <td>2</td>\n",
       "      <td>M</td>\n",
       "      <td>Y</td>\n",
       "      <td>Y</td>\n",
       "      <td>0</td>\n",
       "      <td>450000.0</td>\n",
       "      <td>Working</td>\n",
       "      <td>Higher education</td>\n",
       "      <td>Married</td>\n",
       "      <td>House / apartment</td>\n",
       "      <td>-19087</td>\n",
       "      <td>-4434</td>\n",
       "      <td>1</td>\n",
       "      <td>0</td>\n",
       "      <td>1</td>\n",
       "      <td>0</td>\n",
       "      <td>2.0</td>\n",
       "      <td>-22.0</td>\n",
       "      <td>2.0</td>\n",
       "    </tr>\n",
       "    <tr>\n",
       "      <th>3</th>\n",
       "      <td>3</td>\n",
       "      <td>F</td>\n",
       "      <td>N</td>\n",
       "      <td>Y</td>\n",
       "      <td>0</td>\n",
       "      <td>202500.0</td>\n",
       "      <td>Commercial associate</td>\n",
       "      <td>Secondary / secondary special</td>\n",
       "      <td>Married</td>\n",
       "      <td>House / apartment</td>\n",
       "      <td>-15088</td>\n",
       "      <td>-2092</td>\n",
       "      <td>1</td>\n",
       "      <td>0</td>\n",
       "      <td>1</td>\n",
       "      <td>0</td>\n",
       "      <td>2.0</td>\n",
       "      <td>-37.0</td>\n",
       "      <td>0.0</td>\n",
       "    </tr>\n",
       "    <tr>\n",
       "      <th>4</th>\n",
       "      <td>4</td>\n",
       "      <td>F</td>\n",
       "      <td>Y</td>\n",
       "      <td>Y</td>\n",
       "      <td>0</td>\n",
       "      <td>157500.0</td>\n",
       "      <td>State servant</td>\n",
       "      <td>Higher education</td>\n",
       "      <td>Married</td>\n",
       "      <td>House / apartment</td>\n",
       "      <td>-15037</td>\n",
       "      <td>-2105</td>\n",
       "      <td>1</td>\n",
       "      <td>0</td>\n",
       "      <td>0</td>\n",
       "      <td>0</td>\n",
       "      <td>2.0</td>\n",
       "      <td>-26.0</td>\n",
       "      <td>2.0</td>\n",
       "    </tr>\n",
       "  </tbody>\n",
       "</table>\n",
       "</div>"
      ],
      "text/plain": [
       "   index gender car reality  child_num  income_total           income_type  \\\n",
       "0      0      F   N       N          0      202500.0  Commercial associate   \n",
       "1      1      F   N       Y          1      247500.0  Commercial associate   \n",
       "2      2      M   Y       Y          0      450000.0               Working   \n",
       "3      3      F   N       Y          0      202500.0  Commercial associate   \n",
       "4      4      F   Y       Y          0      157500.0         State servant   \n",
       "\n",
       "                        edu_type     family_type           house_type  \\\n",
       "0               Higher education         Married  Municipal apartment   \n",
       "1  Secondary / secondary special  Civil marriage    House / apartment   \n",
       "2               Higher education         Married    House / apartment   \n",
       "3  Secondary / secondary special         Married    House / apartment   \n",
       "4               Higher education         Married    House / apartment   \n",
       "\n",
       "   DAYS_BIRTH  DAYS_EMPLOYED  FLAG_MOBIL  work_phone  phone  email  \\\n",
       "0      -13899          -4709           1           0      0      0   \n",
       "1      -11380          -1540           1           0      0      1   \n",
       "2      -19087          -4434           1           0      1      0   \n",
       "3      -15088          -2092           1           0      1      0   \n",
       "4      -15037          -2105           1           0      0      0   \n",
       "\n",
       "   family_size  begin_month  credit  \n",
       "0          2.0         -6.0     1.0  \n",
       "1          3.0         -5.0     1.0  \n",
       "2          2.0        -22.0     2.0  \n",
       "3          2.0        -37.0     0.0  \n",
       "4          2.0        -26.0     2.0  "
      ]
     },
     "execution_count": 168,
     "metadata": {},
     "output_type": "execute_result"
    }
   ],
   "source": [
    "train = train.drop(['occyp_type'], axis=1)\n",
    "test = test.drop(['occyp_type'], axis=1)\n",
    "train.head()"
   ]
  },
  {
   "cell_type": "code",
   "execution_count": 97,
   "metadata": {},
   "outputs": [
    {
     "name": "stdout",
     "output_type": "stream",
     "text": [
      "<class 'pandas.core.frame.DataFrame'>\n",
      "RangeIndex: 26457 entries, 0 to 26456\n",
      "Data columns (total 19 columns):\n",
      " #   Column         Non-Null Count  Dtype  \n",
      "---  ------         --------------  -----  \n",
      " 0   index          26457 non-null  int64  \n",
      " 1   gender         26457 non-null  object \n",
      " 2   car            26457 non-null  object \n",
      " 3   reality        26457 non-null  object \n",
      " 4   child_num      26457 non-null  int64  \n",
      " 5   income_total   26457 non-null  float64\n",
      " 6   income_type    26457 non-null  object \n",
      " 7   edu_type       26457 non-null  object \n",
      " 8   family_type    26457 non-null  object \n",
      " 9   house_type     26457 non-null  object \n",
      " 10  DAYS_BIRTH     26457 non-null  int64  \n",
      " 11  DAYS_EMPLOYED  26457 non-null  int64  \n",
      " 12  FLAG_MOBIL     26457 non-null  int64  \n",
      " 13  work_phone     26457 non-null  int64  \n",
      " 14  phone          26457 non-null  int64  \n",
      " 15  email          26457 non-null  int64  \n",
      " 16  family_size    26457 non-null  float64\n",
      " 17  begin_month    26457 non-null  float64\n",
      " 18  credit         26457 non-null  float64\n",
      "dtypes: float64(4), int64(8), object(7)\n",
      "memory usage: 3.8+ MB\n"
     ]
    }
   ],
   "source": [
    "train.info()"
   ]
  },
  {
   "cell_type": "markdown",
   "metadata": {},
   "source": [
    "---"
   ]
  },
  {
   "cell_type": "markdown",
   "metadata": {},
   "source": [
    "연속형 변수 -> 범주형 변수로 변환"
   ]
  },
  {
   "cell_type": "markdown",
   "metadata": {},
   "source": [
    "### 1. income_total "
   ]
  },
  {
   "cell_type": "code",
   "execution_count": 98,
   "metadata": {},
   "outputs": [
    {
     "name": "stdout",
     "output_type": "stream",
     "text": [
      "(2.544, 18.18]      16212\n",
      "(18.18, 33.66]       8330\n",
      "(33.66, 49.14]       1530\n",
      "(49.14, 64.62]        206\n",
      "(64.62, 80.1]         121\n",
      "(80.1, 95.58]          44\n",
      "(95.58, 111.06]         3\n",
      "(111.06, 126.54]        2\n",
      "(126.54, 142.02]        4\n",
      "(142.02, 157.5]         5\n",
      "Name: income_total, dtype: int64\n",
      "(2.544, 18.18]      6248\n",
      "(18.18, 33.66]      3050\n",
      "(33.66, 49.14]       569\n",
      "(49.14, 64.62]        68\n",
      "(64.62, 80.1]         44\n",
      "(80.1, 95.58]         14\n",
      "(95.58, 111.06]        1\n",
      "(111.06, 126.54]       1\n",
      "(126.54, 142.02]       2\n",
      "(142.02, 157.5]        3\n",
      "Name: income_total, dtype: int64\n"
     ]
    }
   ],
   "source": [
    "train['income_total'] = train['income_total'].astype(object)\n",
    "test['income_total'] = test['income_total'].astype(object)\n",
    "train['income_total'] = train['income_total']/10000 \n",
    "test['income_total'] = test['income_total']/10000\n",
    "##############################################################3\n",
    "print(train['income_total'].value_counts(bins=10,sort=False))\n",
    "print(test['income_total'].value_counts(bins=10,sort=False))\n",
    "\n",
    "#train['income_total'].plot(kind='hist',bins=50,density=True)"
   ]
  },
  {
   "cell_type": "code",
   "execution_count": 99,
   "metadata": {},
   "outputs": [],
   "source": [
    "type(train['income_total'])\n",
    "num_train = train['income_total']"
   ]
  },
  {
   "cell_type": "code",
   "execution_count": 100,
   "metadata": {},
   "outputs": [
    {
     "name": "stdout",
     "output_type": "stream",
     "text": [
      "11.25 14.399999999999999 18.0 24.75 157.5\n"
     ]
    }
   ],
   "source": [
    "Q1 = num_train.quantile(0.20)\n",
    "Q2 = num_train.quantile(0.40)\n",
    "Q3 = num_train.quantile(0.60)\n",
    "Q4 = num_train.quantile(0.80)\n",
    "Q5 = num_train.quantile(1)\n",
    "print(Q1,Q2,Q3,Q4,Q5)\n"
   ]
  },
  {
   "cell_type": "code",
   "execution_count": 101,
   "metadata": {},
   "outputs": [
    {
     "name": "stdout",
     "output_type": "stream",
     "text": [
      "11.25 13.95 18.0 24.3 157.5\n"
     ]
    }
   ],
   "source": [
    "num_test = test['income_total']\n",
    "Q1 = num_test.quantile(0.20)\n",
    "Q2 = num_test.quantile(0.40)\n",
    "Q3 = num_test.quantile(0.60)\n",
    "Q4 = num_test.quantile(0.80)\n",
    "Q5 = num_test.quantile(1)\n",
    "print(Q1,Q2,Q3,Q4,Q5)"
   ]
  },
  {
   "cell_type": "code",
   "execution_count": 102,
   "metadata": {},
   "outputs": [
    {
     "data": {
      "text/plain": [
       "(2.544, 33.66]     9298\n",
       "(33.66, 64.62]      637\n",
       "(64.62, 95.58]       58\n",
       "(95.58, 126.54]       2\n",
       "(126.54, 157.5]       5\n",
       "Name: income_total, dtype: int64"
      ]
     },
     "execution_count": 102,
     "metadata": {},
     "output_type": "execute_result"
    }
   ],
   "source": [
    "train['income_total'].value_counts(bins=5, sort=False)\n",
    "test['income_total'].value_counts(bins=5, sort=False)\n"
   ]
  },
  {
   "cell_type": "code",
   "execution_count": 103,
   "metadata": {},
   "outputs": [],
   "source": [
    "train['income_total'] = pd.cut(train['income_total'], bins=[0,Q1,Q2,Q3,Q4,Q5], labels=['a','b','c','d','e'])\n",
    "test['income_total'] = pd.cut(test['income_total'], bins=[0,Q1,Q2,Q3,Q4,Q5], labels=['a','b','c','d','e'])"
   ]
  },
  {
   "cell_type": "markdown",
   "metadata": {},
   "source": [
    "bin : 동일한 길이의 bins 값으로 분할  \n",
    "0~Q1 : 'a',   Q1~Q2 : 'b',   Q2~Q3 : 'c',   Q3~Q4 : 'd',   Q4~Q5 : 'e' "
   ]
  },
  {
   "cell_type": "code",
   "execution_count": 104,
   "metadata": {},
   "outputs": [
    {
     "data": {
      "text/plain": [
       "['a', 'b', 'd', 'e', 'c']\n",
       "Categories (5, object): ['a' < 'b' < 'c' < 'd' < 'e']"
      ]
     },
     "execution_count": 104,
     "metadata": {},
     "output_type": "execute_result"
    }
   ],
   "source": [
    "train['income_total'].unique()\n",
    "test['income_total'].unique()"
   ]
  },
  {
   "cell_type": "code",
   "execution_count": 105,
   "metadata": {},
   "outputs": [
    {
     "data": {
      "text/plain": [
       "0        d\n",
       "1        e\n",
       "2        e\n",
       "3        d\n",
       "4        c\n",
       "        ..\n",
       "26452    d\n",
       "26453    c\n",
       "26454    e\n",
       "26455    c\n",
       "26456    a\n",
       "Name: income_total, Length: 26457, dtype: category\n",
       "Categories (5, object): ['a' < 'b' < 'c' < 'd' < 'e']"
      ]
     },
     "execution_count": 105,
     "metadata": {},
     "output_type": "execute_result"
    }
   ],
   "source": [
    "train['income_total']"
   ]
  },
  {
   "cell_type": "code",
   "execution_count": 106,
   "metadata": {},
   "outputs": [
    {
     "data": {
      "text/plain": [
       "0       a\n",
       "1       b\n",
       "2       a\n",
       "3       a\n",
       "4       d\n",
       "       ..\n",
       "9995    d\n",
       "9996    d\n",
       "9997    e\n",
       "9998    c\n",
       "9999    e\n",
       "Name: income_total, Length: 10000, dtype: category\n",
       "Categories (5, object): ['a' < 'b' < 'c' < 'd' < 'e']"
      ]
     },
     "execution_count": 106,
     "metadata": {},
     "output_type": "execute_result"
    }
   ],
   "source": [
    "test['income_total']"
   ]
  },
  {
   "cell_type": "markdown",
   "metadata": {},
   "source": [
    "### 2. DAYS_BIRTH"
   ]
  },
  {
   "cell_type": "code",
   "execution_count": 107,
   "metadata": {},
   "outputs": [],
   "source": [
    "train['DAYS_BIRTH'] = abs(train['DAYS_BIRTH'])   #음수값 처리\n",
    "test['DAYS_BIRTH'] = abs(test['DAYS_BIRTH'])   #음수값 처리"
   ]
  },
  {
   "cell_type": "code",
   "execution_count": 108,
   "metadata": {},
   "outputs": [
    {
     "data": {
      "text/plain": [
       "0       21990\n",
       "1       18964\n",
       "2       15887\n",
       "3       19270\n",
       "4       17822\n",
       "        ...  \n",
       "9995    18593\n",
       "9996    10886\n",
       "9997    21016\n",
       "9998    16541\n",
       "9999     9154\n",
       "Name: DAYS_BIRTH, Length: 10000, dtype: int64"
      ]
     },
     "execution_count": 108,
     "metadata": {},
     "output_type": "execute_result"
    }
   ],
   "source": [
    "train['DAYS_BIRTH']\n",
    "test['DAYS_BIRTH']"
   ]
  },
  {
   "cell_type": "code",
   "execution_count": 109,
   "metadata": {},
   "outputs": [
    {
     "name": "stdout",
     "output_type": "stream",
     "text": [
      "(7687.552, 11194.4]    4147\n",
      "(11194.4, 14683.8]     7246\n",
      "(14683.8, 18173.2]     6438\n",
      "(18173.2, 21662.6]     5438\n",
      "(21662.6, 25152.0]     3188\n",
      "Name: DAYS_BIRTH, dtype: int64\n",
      "(7471.336, 11021.6]    1374\n",
      "(11021.6, 14554.2]     2752\n",
      "(14554.2, 18086.8]     2486\n",
      "(18086.8, 21619.4]     2126\n",
      "(21619.4, 25152.0]     1262\n",
      "Name: DAYS_BIRTH, dtype: int64\n"
     ]
    },
    {
     "data": {
      "text/plain": [
       "<AxesSubplot:ylabel='Frequency'>"
      ]
     },
     "execution_count": 109,
     "metadata": {},
     "output_type": "execute_result"
    },
    {
     "data": {
      "image/png": "[encoded data removed]",
      "text/plain": [
       "<Figure size 432x288 with 1 Axes>"
      ]
     },
     "metadata": {
      "needs_background": "light"
     },
     "output_type": "display_data"
    }
   ],
   "source": [
    "print(train['DAYS_BIRTH'].value_counts(bins=5,sort=False))\n",
    "train['DAYS_BIRTH'].plot(kind='hist',bins=20,density=True)\n",
    "\n",
    "print(test['DAYS_BIRTH'].value_counts(bins=5,sort=False))\n",
    "test['DAYS_BIRTH'].plot(kind='hist',bins=20,density=True)"
   ]
  },
  {
   "cell_type": "code",
   "execution_count": 110,
   "metadata": {},
   "outputs": [
    {
     "data": {
      "text/plain": [
       "7705"
      ]
     },
     "execution_count": 110,
     "metadata": {},
     "output_type": "execute_result"
    }
   ],
   "source": [
    "min(train['DAYS_BIRTH'])"
   ]
  },
  {
   "cell_type": "code",
   "execution_count": 111,
   "metadata": {},
   "outputs": [],
   "source": [
    "import matplotlib.pyplot as plt"
   ]
  },
  {
   "cell_type": "code",
   "execution_count": 112,
   "metadata": {},
   "outputs": [
    {
     "data": {
      "text/plain": [
       "{'whiskers': [<matplotlib.lines.Line2D at 0x1d2e49f7730>,\n",
       "  <matplotlib.lines.Line2D at 0x1d2e49f7ac0>],\n",
       " 'caps': [<matplotlib.lines.Line2D at 0x1d2e49f7e50>,\n",
       "  <matplotlib.lines.Line2D at 0x1d2e4a07220>],\n",
       " 'boxes': [<matplotlib.lines.Line2D at 0x1d2e49f73a0>],\n",
       " 'medians': [<matplotlib.lines.Line2D at 0x1d2e4a075b0>],\n",
       " 'fliers': [<matplotlib.lines.Line2D at 0x1d2e4a07940>],\n",
       " 'means': []}"
      ]
     },
     "execution_count": 112,
     "metadata": {},
     "output_type": "execute_result"
    },
    {
     "data": {
      "image/png": "[encoded data removed]",
      "text/plain": [
       "<Figure size 432x288 with 1 Axes>"
      ]
     },
     "metadata": {
      "needs_background": "light"
     },
     "output_type": "display_data"
    }
   ],
   "source": [
    "plt.boxplot(train['DAYS_BIRTH'])"
   ]
  },
  {
   "cell_type": "code",
   "execution_count": 113,
   "metadata": {},
   "outputs": [
    {
     "name": "stdout",
     "output_type": "stream",
     "text": [
      "11814.0 14329.400000000001 17001.0 20283.800000000003 25152.0\n",
      "11864.0 14419.0 17095.0 20311.800000000003 25152.0\n"
     ]
    }
   ],
   "source": [
    "num = train['DAYS_BIRTH']\n",
    "Q1 = num.quantile(0.20)\n",
    "Q2 = num.quantile(0.40)\n",
    "Q3 = num.quantile(0.60)\n",
    "Q4 = num.quantile(0.80)\n",
    "Q5 = num.quantile(1)\n",
    "print(Q1,Q2,Q3,Q4,Q5)\n",
    "\n",
    "num = test['DAYS_BIRTH']\n",
    "Q1 = num.quantile(0.20)\n",
    "Q2 = num.quantile(0.40)\n",
    "Q3 = num.quantile(0.60)\n",
    "Q4 = num.quantile(0.80)\n",
    "Q5 = num.quantile(1)\n",
    "print(Q1,Q2,Q3,Q4,Q5)"
   ]
  },
  {
   "cell_type": "code",
   "execution_count": 114,
   "metadata": {},
   "outputs": [],
   "source": [
    "train['DAYS_BIRTH'] = pd.cut(train['DAYS_BIRTH'], bins=[0,Q1,Q2,Q3,Q4,Q5], labels=['a','b','c','d','e'])\n",
    "test['DAYS_BIRTH'] = pd.cut(test['DAYS_BIRTH'], bins=[0,Q1,Q2,Q3,Q4,Q5], labels=['a','b','c','d','e'])"
   ]
  },
  {
   "cell_type": "code",
   "execution_count": 115,
   "metadata": {},
   "outputs": [
    {
     "data": {
      "text/plain": [
       "a    2002\n",
       "b    2001\n",
       "e    2000\n",
       "d    1999\n",
       "c    1998\n",
       "Name: DAYS_BIRTH, dtype: int64"
      ]
     },
     "execution_count": 115,
     "metadata": {},
     "output_type": "execute_result"
    }
   ],
   "source": [
    "train['DAYS_BIRTH'].value_counts()\n",
    "test['DAYS_BIRTH'].value_counts()"
   ]
  },
  {
   "cell_type": "markdown",
   "metadata": {},
   "source": [
    "3. FLAG_MOBIL => 핸드폰 소유 1, 핸드폰 무소유 0 -> DROP할거야 왜냐면 전부다 가지고 있으니까"
   ]
  },
  {
   "cell_type": "code",
   "execution_count": 164,
   "metadata": {},
   "outputs": [
    {
     "data": {
      "text/html": [
       "<div>\n",
       "<style scoped>\n",
       "    .dataframe tbody tr th:only-of-type {\n",
       "        vertical-align: middle;\n",
       "    }\n",
       "\n",
       "    .dataframe tbody tr th {\n",
       "        vertical-align: top;\n",
       "    }\n",
       "\n",
       "    .dataframe thead th {\n",
       "        text-align: right;\n",
       "    }\n",
       "</style>\n",
       "<table border=\"1\" class=\"dataframe\">\n",
       "  <thead>\n",
       "    <tr style=\"text-align: right;\">\n",
       "      <th></th>\n",
       "      <th>index</th>\n",
       "      <th>gender</th>\n",
       "      <th>car</th>\n",
       "      <th>reality</th>\n",
       "      <th>child_num</th>\n",
       "      <th>income_total</th>\n",
       "      <th>income_type</th>\n",
       "      <th>edu_type</th>\n",
       "      <th>family_type</th>\n",
       "      <th>house_type</th>\n",
       "      <th>DAYS_BIRTH</th>\n",
       "      <th>DAYS_EMPLOYED</th>\n",
       "      <th>work_phone</th>\n",
       "      <th>phone</th>\n",
       "      <th>email</th>\n",
       "      <th>occyp_type</th>\n",
       "      <th>family_size</th>\n",
       "      <th>begin_month</th>\n",
       "    </tr>\n",
       "  </thead>\n",
       "  <tbody>\n",
       "    <tr>\n",
       "      <th>0</th>\n",
       "      <td>26457</td>\n",
       "      <td>M</td>\n",
       "      <td>Y</td>\n",
       "      <td>N</td>\n",
       "      <td>0</td>\n",
       "      <td>112500.0</td>\n",
       "      <td>Pensioner</td>\n",
       "      <td>Secondary / secondary special</td>\n",
       "      <td>Civil marriage</td>\n",
       "      <td>House / apartment</td>\n",
       "      <td>-21990</td>\n",
       "      <td>a</td>\n",
       "      <td>0</td>\n",
       "      <td>1</td>\n",
       "      <td>0</td>\n",
       "      <td>NaN</td>\n",
       "      <td>2.0</td>\n",
       "      <td>60.0</td>\n",
       "    </tr>\n",
       "    <tr>\n",
       "      <th>1</th>\n",
       "      <td>26458</td>\n",
       "      <td>F</td>\n",
       "      <td>N</td>\n",
       "      <td>Y</td>\n",
       "      <td>0</td>\n",
       "      <td>135000.0</td>\n",
       "      <td>State servant</td>\n",
       "      <td>Higher education</td>\n",
       "      <td>Married</td>\n",
       "      <td>House / apartment</td>\n",
       "      <td>-18964</td>\n",
       "      <td>d</td>\n",
       "      <td>0</td>\n",
       "      <td>1</td>\n",
       "      <td>0</td>\n",
       "      <td>Core staff</td>\n",
       "      <td>2.0</td>\n",
       "      <td>36.0</td>\n",
       "    </tr>\n",
       "    <tr>\n",
       "      <th>2</th>\n",
       "      <td>26459</td>\n",
       "      <td>F</td>\n",
       "      <td>N</td>\n",
       "      <td>Y</td>\n",
       "      <td>0</td>\n",
       "      <td>69372.0</td>\n",
       "      <td>Working</td>\n",
       "      <td>Secondary / secondary special</td>\n",
       "      <td>Married</td>\n",
       "      <td>House / apartment</td>\n",
       "      <td>-15887</td>\n",
       "      <td>a</td>\n",
       "      <td>1</td>\n",
       "      <td>1</td>\n",
       "      <td>0</td>\n",
       "      <td>Laborers</td>\n",
       "      <td>2.0</td>\n",
       "      <td>40.0</td>\n",
       "    </tr>\n",
       "    <tr>\n",
       "      <th>3</th>\n",
       "      <td>26460</td>\n",
       "      <td>M</td>\n",
       "      <td>Y</td>\n",
       "      <td>N</td>\n",
       "      <td>0</td>\n",
       "      <td>112500.0</td>\n",
       "      <td>Commercial associate</td>\n",
       "      <td>Secondary / secondary special</td>\n",
       "      <td>Married</td>\n",
       "      <td>House / apartment</td>\n",
       "      <td>-19270</td>\n",
       "      <td>b</td>\n",
       "      <td>1</td>\n",
       "      <td>0</td>\n",
       "      <td>0</td>\n",
       "      <td>Drivers</td>\n",
       "      <td>2.0</td>\n",
       "      <td>41.0</td>\n",
       "    </tr>\n",
       "    <tr>\n",
       "      <th>4</th>\n",
       "      <td>26461</td>\n",
       "      <td>F</td>\n",
       "      <td>Y</td>\n",
       "      <td>Y</td>\n",
       "      <td>0</td>\n",
       "      <td>225000.0</td>\n",
       "      <td>State servant</td>\n",
       "      <td>Higher education</td>\n",
       "      <td>Married</td>\n",
       "      <td>House / apartment</td>\n",
       "      <td>-17822</td>\n",
       "      <td>d</td>\n",
       "      <td>1</td>\n",
       "      <td>0</td>\n",
       "      <td>0</td>\n",
       "      <td>Managers</td>\n",
       "      <td>2.0</td>\n",
       "      <td>8.0</td>\n",
       "    </tr>\n",
       "    <tr>\n",
       "      <th>...</th>\n",
       "      <td>...</td>\n",
       "      <td>...</td>\n",
       "      <td>...</td>\n",
       "      <td>...</td>\n",
       "      <td>...</td>\n",
       "      <td>...</td>\n",
       "      <td>...</td>\n",
       "      <td>...</td>\n",
       "      <td>...</td>\n",
       "      <td>...</td>\n",
       "      <td>...</td>\n",
       "      <td>...</td>\n",
       "      <td>...</td>\n",
       "      <td>...</td>\n",
       "      <td>...</td>\n",
       "      <td>...</td>\n",
       "      <td>...</td>\n",
       "      <td>...</td>\n",
       "    </tr>\n",
       "    <tr>\n",
       "      <th>9995</th>\n",
       "      <td>36452</td>\n",
       "      <td>F</td>\n",
       "      <td>Y</td>\n",
       "      <td>Y</td>\n",
       "      <td>0</td>\n",
       "      <td>202500.0</td>\n",
       "      <td>Working</td>\n",
       "      <td>Incomplete higher</td>\n",
       "      <td>Married</td>\n",
       "      <td>House / apartment</td>\n",
       "      <td>-18593</td>\n",
       "      <td>c</td>\n",
       "      <td>1</td>\n",
       "      <td>1</td>\n",
       "      <td>0</td>\n",
       "      <td>Accountants</td>\n",
       "      <td>2.0</td>\n",
       "      <td>19.0</td>\n",
       "    </tr>\n",
       "    <tr>\n",
       "      <th>9996</th>\n",
       "      <td>36453</td>\n",
       "      <td>M</td>\n",
       "      <td>Y</td>\n",
       "      <td>Y</td>\n",
       "      <td>0</td>\n",
       "      <td>202500.0</td>\n",
       "      <td>Working</td>\n",
       "      <td>Secondary / secondary special</td>\n",
       "      <td>Civil marriage</td>\n",
       "      <td>House / apartment</td>\n",
       "      <td>-10886</td>\n",
       "      <td>a</td>\n",
       "      <td>1</td>\n",
       "      <td>0</td>\n",
       "      <td>0</td>\n",
       "      <td>Laborers</td>\n",
       "      <td>2.0</td>\n",
       "      <td>34.0</td>\n",
       "    </tr>\n",
       "    <tr>\n",
       "      <th>9997</th>\n",
       "      <td>36454</td>\n",
       "      <td>F</td>\n",
       "      <td>N</td>\n",
       "      <td>Y</td>\n",
       "      <td>0</td>\n",
       "      <td>292500.0</td>\n",
       "      <td>Working</td>\n",
       "      <td>Secondary / secondary special</td>\n",
       "      <td>Married</td>\n",
       "      <td>House / apartment</td>\n",
       "      <td>-21016</td>\n",
       "      <td>d</td>\n",
       "      <td>0</td>\n",
       "      <td>0</td>\n",
       "      <td>0</td>\n",
       "      <td>Medicine staff</td>\n",
       "      <td>2.0</td>\n",
       "      <td>55.0</td>\n",
       "    </tr>\n",
       "    <tr>\n",
       "      <th>9998</th>\n",
       "      <td>36455</td>\n",
       "      <td>F</td>\n",
       "      <td>Y</td>\n",
       "      <td>N</td>\n",
       "      <td>0</td>\n",
       "      <td>180000.0</td>\n",
       "      <td>Commercial associate</td>\n",
       "      <td>Secondary / secondary special</td>\n",
       "      <td>Married</td>\n",
       "      <td>House / apartment</td>\n",
       "      <td>-16541</td>\n",
       "      <td>a</td>\n",
       "      <td>0</td>\n",
       "      <td>1</td>\n",
       "      <td>0</td>\n",
       "      <td>NaN</td>\n",
       "      <td>2.0</td>\n",
       "      <td>33.0</td>\n",
       "    </tr>\n",
       "    <tr>\n",
       "      <th>9999</th>\n",
       "      <td>36456</td>\n",
       "      <td>F</td>\n",
       "      <td>N</td>\n",
       "      <td>Y</td>\n",
       "      <td>0</td>\n",
       "      <td>270000.0</td>\n",
       "      <td>Working</td>\n",
       "      <td>Higher education</td>\n",
       "      <td>Married</td>\n",
       "      <td>House / apartment</td>\n",
       "      <td>-9154</td>\n",
       "      <td>a</td>\n",
       "      <td>0</td>\n",
       "      <td>0</td>\n",
       "      <td>1</td>\n",
       "      <td>Laborers</td>\n",
       "      <td>2.0</td>\n",
       "      <td>11.0</td>\n",
       "    </tr>\n",
       "  </tbody>\n",
       "</table>\n",
       "<p>10000 rows × 18 columns</p>\n",
       "</div>"
      ],
      "text/plain": [
       "      index gender car reality  child_num  income_total           income_type  \\\n",
       "0     26457      M   Y       N          0      112500.0             Pensioner   \n",
       "1     26458      F   N       Y          0      135000.0         State servant   \n",
       "2     26459      F   N       Y          0       69372.0               Working   \n",
       "3     26460      M   Y       N          0      112500.0  Commercial associate   \n",
       "4     26461      F   Y       Y          0      225000.0         State servant   \n",
       "...     ...    ...  ..     ...        ...           ...                   ...   \n",
       "9995  36452      F   Y       Y          0      202500.0               Working   \n",
       "9996  36453      M   Y       Y          0      202500.0               Working   \n",
       "9997  36454      F   N       Y          0      292500.0               Working   \n",
       "9998  36455      F   Y       N          0      180000.0  Commercial associate   \n",
       "9999  36456      F   N       Y          0      270000.0               Working   \n",
       "\n",
       "                           edu_type     family_type         house_type  \\\n",
       "0     Secondary / secondary special  Civil marriage  House / apartment   \n",
       "1                  Higher education         Married  House / apartment   \n",
       "2     Secondary / secondary special         Married  House / apartment   \n",
       "3     Secondary / secondary special         Married  House / apartment   \n",
       "4                  Higher education         Married  House / apartment   \n",
       "...                             ...             ...                ...   \n",
       "9995              Incomplete higher         Married  House / apartment   \n",
       "9996  Secondary / secondary special  Civil marriage  House / apartment   \n",
       "9997  Secondary / secondary special         Married  House / apartment   \n",
       "9998  Secondary / secondary special         Married  House / apartment   \n",
       "9999               Higher education         Married  House / apartment   \n",
       "\n",
       "      DAYS_BIRTH DAYS_EMPLOYED  work_phone  phone  email      occyp_type  \\\n",
       "0         -21990             a           0      1      0             NaN   \n",
       "1         -18964             d           0      1      0      Core staff   \n",
       "2         -15887             a           1      1      0        Laborers   \n",
       "3         -19270             b           1      0      0         Drivers   \n",
       "4         -17822             d           1      0      0        Managers   \n",
       "...          ...           ...         ...    ...    ...             ...   \n",
       "9995      -18593             c           1      1      0     Accountants   \n",
       "9996      -10886             a           1      0      0        Laborers   \n",
       "9997      -21016             d           0      0      0  Medicine staff   \n",
       "9998      -16541             a           0      1      0             NaN   \n",
       "9999       -9154             a           0      0      1        Laborers   \n",
       "\n",
       "      family_size  begin_month  \n",
       "0             2.0         60.0  \n",
       "1             2.0         36.0  \n",
       "2             2.0         40.0  \n",
       "3             2.0         41.0  \n",
       "4             2.0          8.0  \n",
       "...           ...          ...  \n",
       "9995          2.0         19.0  \n",
       "9996          2.0         34.0  \n",
       "9997          2.0         55.0  \n",
       "9998          2.0         33.0  \n",
       "9999          2.0         11.0  \n",
       "\n",
       "[10000 rows x 18 columns]"
      ]
     },
     "execution_count": 164,
     "metadata": {},
     "output_type": "execute_result"
    }
   ],
   "source": [
    "train.drop(['FLAG_MOBIL'], axis =1)\n",
    "test.drop(['FLAG_MOBIL'], axis =1)"
   ]
  },
  {
   "cell_type": "markdown",
   "metadata": {},
   "source": [
    "4. work_phone : 업무용 전화 소유 1, 업무용 전화 무소유 0"
   ]
  },
  {
   "cell_type": "code",
   "execution_count": 118,
   "metadata": {},
   "outputs": [],
   "source": [
    "train['work_phone'] = train['work_phone'].replace([1,0],['Y','N'])\n",
    "test['work_phone'] = test['work_phone'].replace([1,0],['Y','N'])"
   ]
  },
  {
   "cell_type": "code",
   "execution_count": 119,
   "metadata": {},
   "outputs": [
    {
     "data": {
      "text/plain": [
       "0        N\n",
       "1        N\n",
       "2        N\n",
       "3        N\n",
       "4        N\n",
       "        ..\n",
       "26452    N\n",
       "26453    N\n",
       "26454    N\n",
       "26455    N\n",
       "26456    N\n",
       "Name: work_phone, Length: 26457, dtype: object"
      ]
     },
     "execution_count": 119,
     "metadata": {},
     "output_type": "execute_result"
    }
   ],
   "source": [
    "train['work_phone']"
   ]
  },
  {
   "cell_type": "markdown",
   "metadata": {},
   "source": [
    "5. phone : 전화 소유 1, 전화 무소유 0"
   ]
  },
  {
   "cell_type": "code",
   "execution_count": 120,
   "metadata": {},
   "outputs": [],
   "source": [
    "train['phone'] = train['phone'].replace([1,0], ['Y','N'])\n",
    "test['phone'] = test['phone'].replace([1,0], ['Y','N'])"
   ]
  },
  {
   "cell_type": "markdown",
   "metadata": {},
   "source": [
    "6. email : 이메일 소유 1, 이메일 무소유 0"
   ]
  },
  {
   "cell_type": "code",
   "execution_count": 121,
   "metadata": {},
   "outputs": [
    {
     "data": {
      "text/plain": [
       "0        N\n",
       "1        Y\n",
       "2        N\n",
       "3        N\n",
       "4        N\n",
       "        ..\n",
       "26452    N\n",
       "26453    N\n",
       "26454    N\n",
       "26455    N\n",
       "26456    N\n",
       "Name: email, Length: 26457, dtype: object"
      ]
     },
     "execution_count": 121,
     "metadata": {},
     "output_type": "execute_result"
    }
   ],
   "source": [
    "train['email'] = train['email'].replace([1,0], ['Y','N'])\n",
    "test['email'] = test['email'].replace([1,0], ['Y','N'])\n",
    "train['email']"
   ]
  },
  {
   "cell_type": "markdown",
   "metadata": {},
   "source": [
    "7. family_size"
   ]
  },
  {
   "cell_type": "code",
   "execution_count": 122,
   "metadata": {},
   "outputs": [
    {
     "data": {
      "text/plain": [
       "{'whiskers': [<matplotlib.lines.Line2D at 0x1d2f33e3ee0>,\n",
       "  <matplotlib.lines.Line2D at 0x1d2f33f32b0>],\n",
       " 'caps': [<matplotlib.lines.Line2D at 0x1d2f33f3640>,\n",
       "  <matplotlib.lines.Line2D at 0x1d2f33f39d0>],\n",
       " 'boxes': [<matplotlib.lines.Line2D at 0x1d2f33e3b50>],\n",
       " 'medians': [<matplotlib.lines.Line2D at 0x1d2f33f3d60>],\n",
       " 'fliers': [<matplotlib.lines.Line2D at 0x1d2f33fe130>],\n",
       " 'means': []}"
      ]
     },
     "execution_count": 122,
     "metadata": {},
     "output_type": "execute_result"
    },
    {
     "data": {
      "image/png": "[encoded data removed]",
      "text/plain": [
       "<Figure size 432x288 with 1 Axes>"
      ]
     },
     "metadata": {
      "needs_background": "light"
     },
     "output_type": "display_data"
    }
   ],
   "source": [
    "\n",
    "plt.boxplot(train['family_size'])"
   ]
  },
  {
   "cell_type": "code",
   "execution_count": 123,
   "metadata": {},
   "outputs": [],
   "source": [
    "num = train['family_size']\n",
    "Q3 = num.quantile(0.75)\n",
    "Q1 = num.quantile(0.25)\n",
    "median = num.quantile(0.50)\n",
    "IQR = Q3 - Q1\n",
    "lower_whisker = Q1 - 1.5 * IQR           #최소값 Q1 - 1.5*IQR\n",
    "upper_whisker = Q3 + 1.5 * IQR                #최댓값 Q3 + 1.5*IQR\n",
    "\n",
    "#outlier = 최댓값 초과 또는 최솟값 미만"
   ]
  },
  {
   "cell_type": "code",
   "execution_count": 124,
   "metadata": {},
   "outputs": [
    {
     "name": "stdout",
     "output_type": "stream",
     "text": [
      "0.5 4.5\n"
     ]
    }
   ],
   "source": [
    "print(lower_whisker, upper_whisker)"
   ]
  },
  {
   "cell_type": "code",
   "execution_count": 125,
   "metadata": {},
   "outputs": [
    {
     "data": {
      "text/plain": [
       "20.0"
      ]
     },
     "execution_count": 125,
     "metadata": {},
     "output_type": "execute_result"
    }
   ],
   "source": [
    "max(train['family_size'])"
   ]
  },
  {
   "cell_type": "code",
   "execution_count": 126,
   "metadata": {},
   "outputs": [],
   "source": [
    "train.loc[(train['family_size']> upper_whisker) | (train['family_size'] < lower_whisker), 'family_size'] = upper_whisker"
   ]
  },
  {
   "cell_type": "code",
   "execution_count": 127,
   "metadata": {},
   "outputs": [
    {
     "data": {
      "text/plain": [
       "\" num = train['family_size']\\nq1 = num.quantile(0.20)\\nq2 = num.quantile(0.40)\\nq3 = num.quantile(0.60)\\nq4 = num.quantile(0.80)\\nq5 = num.quantile(1)\\nprint(q1,q2,q3,q4,q5) \""
      ]
     },
     "execution_count": 127,
     "metadata": {},
     "output_type": "execute_result"
    }
   ],
   "source": [
    "\"\"\" num = train['family_size']\n",
    "q1 = num.quantile(0.20)\n",
    "q2 = num.quantile(0.40)\n",
    "q3 = num.quantile(0.60)\n",
    "q4 = num.quantile(0.80)\n",
    "q5 = num.quantile(1)\n",
    "print(q1,q2,q3,q4,q5) \"\"\""
   ]
  },
  {
   "cell_type": "code",
   "execution_count": 128,
   "metadata": {},
   "outputs": [
    {
     "data": {
      "text/plain": [
       "1.0"
      ]
     },
     "execution_count": 128,
     "metadata": {},
     "output_type": "execute_result"
    }
   ],
   "source": [
    "min(train['family_size'])"
   ]
  },
  {
   "cell_type": "code",
   "execution_count": 129,
   "metadata": {},
   "outputs": [],
   "source": [
    "train['family_size'] = pd.cut(train['family_size'], bins=4, labels=['a','b','c','d'])\n",
    "test['family_size'] = pd.cut(test['family_size'], bins=4, labels=['a','b','c','d'])"
   ]
  },
  {
   "cell_type": "code",
   "execution_count": 130,
   "metadata": {},
   "outputs": [
    {
     "data": {
      "text/plain": [
       "b    14106\n",
       "a     5109\n",
       "c     4632\n",
       "d     2610\n",
       "Name: family_size, dtype: int64"
      ]
     },
     "execution_count": 130,
     "metadata": {},
     "output_type": "execute_result"
    }
   ],
   "source": [
    "train['family_size'].value_counts()"
   ]
  },
  {
   "cell_type": "code",
   "execution_count": 131,
   "metadata": {},
   "outputs": [
    {
     "data": {
      "text/plain": [
       "a    7235\n",
       "b    2635\n",
       "c     106\n",
       "d      24\n",
       "Name: family_size, dtype: int64"
      ]
     },
     "execution_count": 131,
     "metadata": {},
     "output_type": "execute_result"
    }
   ],
   "source": [
    "test['family_size'].value_counts()"
   ]
  },
  {
   "cell_type": "code",
   "execution_count": 132,
   "metadata": {},
   "outputs": [
    {
     "data": {
      "text/plain": [
       "0        b\n",
       "1        c\n",
       "2        b\n",
       "3        b\n",
       "4        b\n",
       "        ..\n",
       "26452    d\n",
       "26453    b\n",
       "26454    b\n",
       "26455    a\n",
       "26456    b\n",
       "Name: family_size, Length: 26457, dtype: category\n",
       "Categories (4, object): ['a' < 'b' < 'c' < 'd']"
      ]
     },
     "execution_count": 132,
     "metadata": {},
     "output_type": "execute_result"
    }
   ],
   "source": [
    "train['family_size']"
   ]
  },
  {
   "cell_type": "markdown",
   "metadata": {},
   "source": [
    "8. begin_month : 신용카드 발급개월 수 역수"
   ]
  },
  {
   "cell_type": "code",
   "execution_count": 140,
   "metadata": {},
   "outputs": [],
   "source": [
    "train['begin_month'] = abs(train['begin_month'])\n",
    "test['begin_month'] = abs(test['begin_month'])"
   ]
  },
  {
   "cell_type": "code",
   "execution_count": 142,
   "metadata": {},
   "outputs": [
    {
     "data": {
      "text/plain": [
       "<AxesSubplot:ylabel='Frequency'>"
      ]
     },
     "execution_count": 142,
     "metadata": {},
     "output_type": "execute_result"
    },
    {
     "data": {
      "image/png": "[encoded data removed]",
      "text/plain": [
       "<Figure size 432x288 with 1 Axes>"
      ]
     },
     "metadata": {
      "needs_background": "light"
     },
     "output_type": "display_data"
    }
   ],
   "source": [
    "train['begin_month'].plot(kind='hist',bins = 10)"
   ]
  },
  {
   "cell_type": "code",
   "execution_count": 90,
   "metadata": {},
   "outputs": [
    {
     "name": "stdout",
     "output_type": "stream",
     "text": [
      "0.0 60.0\n"
     ]
    }
   ],
   "source": [
    "print(min(train['begin_month']), max(train['begin_month']))"
   ]
  },
  {
   "cell_type": "code",
   "execution_count": 91,
   "metadata": {},
   "outputs": [
    {
     "data": {
      "text/plain": [
       "26.123294402237594"
      ]
     },
     "execution_count": 91,
     "metadata": {},
     "output_type": "execute_result"
    }
   ],
   "source": [
    "train['begin_month'].mean()"
   ]
  },
  {
   "cell_type": "code",
   "execution_count": 137,
   "metadata": {},
   "outputs": [
    {
     "data": {
      "text/plain": [
       "0        (-0.06, 12.0]\n",
       "1        (-0.06, 12.0]\n",
       "2         (12.0, 24.0]\n",
       "3         (36.0, 48.0]\n",
       "4         (24.0, 36.0]\n",
       "             ...      \n",
       "26452    (-0.06, 12.0]\n",
       "26453     (36.0, 48.0]\n",
       "26454     (24.0, 36.0]\n",
       "26455     (48.0, 60.0]\n",
       "26456    (-0.06, 12.0]\n",
       "Name: begin_month, Length: 26457, dtype: category\n",
       "Categories (5, interval[float64, right]): [(-0.06, 12.0] < (12.0, 24.0] < (24.0, 36.0] < (36.0, 48.0] < (48.0, 60.0]]"
      ]
     },
     "execution_count": 137,
     "metadata": {},
     "output_type": "execute_result"
    }
   ],
   "source": [
    "pd.cut(abs(subtrain['begin_month']), bins=5)"
   ]
  },
  {
   "cell_type": "code",
   "execution_count": 92,
   "metadata": {},
   "outputs": [],
   "source": [
    "train['begin_month'] = pd.cut(train['begin_month'], bins=5, labels=['a','b','c','d','e'])\n",
    "test['begin_month'] = pd.cut(test['begin_month'], bins=5, labels=['a','b','c','d','e'])"
   ]
  },
  {
   "cell_type": "code",
   "execution_count": 47,
   "metadata": {},
   "outputs": [
    {
     "data": {
      "text/plain": [
       "a    7049\n",
       "b    6270\n",
       "c    5250\n",
       "d    4594\n",
       "e    3294\n",
       "Name: begin_month, dtype: int64"
      ]
     },
     "execution_count": 47,
     "metadata": {},
     "output_type": "execute_result"
    }
   ],
   "source": [
    "train['begin_month'].value_counts()"
   ]
  },
  {
   "cell_type": "code",
   "execution_count": 48,
   "metadata": {},
   "outputs": [
    {
     "data": {
      "text/plain": [
       "a    2541\n",
       "b    2450\n",
       "c    2059\n",
       "d    1714\n",
       "e    1236\n",
       "Name: begin_month, dtype: int64"
      ]
     },
     "execution_count": 48,
     "metadata": {},
     "output_type": "execute_result"
    }
   ],
   "source": [
    "test['begin_month'].value_counts()"
   ]
  },
  {
   "cell_type": "code",
   "execution_count": 49,
   "metadata": {},
   "outputs": [
    {
     "data": {
      "text/plain": [
       "0        a\n",
       "1        a\n",
       "2        b\n",
       "3        d\n",
       "4        c\n",
       "        ..\n",
       "26452    a\n",
       "26453    d\n",
       "26454    c\n",
       "26455    e\n",
       "26456    a\n",
       "Name: begin_month, Length: 26457, dtype: category\n",
       "Categories (5, object): ['a' < 'b' < 'c' < 'd' < 'e']"
      ]
     },
     "execution_count": 49,
     "metadata": {},
     "output_type": "execute_result"
    }
   ],
   "source": [
    "train['begin_month']"
   ]
  },
  {
   "cell_type": "markdown",
   "metadata": {},
   "source": [
    "9. child_num "
   ]
  },
  {
   "cell_type": "code",
   "execution_count": 50,
   "metadata": {},
   "outputs": [
    {
     "data": {
      "text/plain": [
       "0     18340\n",
       "1      5386\n",
       "2      2362\n",
       "3       306\n",
       "4        47\n",
       "5        10\n",
       "14        3\n",
       "7         2\n",
       "19        1\n",
       "Name: child_num, dtype: int64"
      ]
     },
     "execution_count": 50,
     "metadata": {},
     "output_type": "execute_result"
    }
   ],
   "source": [
    "train['child_num'].value_counts()"
   ]
  },
  {
   "cell_type": "code",
   "execution_count": 51,
   "metadata": {},
   "outputs": [],
   "source": [
    "train.loc[train['child_num']>=1,'child_num'] = 1\n",
    "test.loc[test['child_num']>=1,'child_num'] = 1"
   ]
  },
  {
   "cell_type": "code",
   "execution_count": 52,
   "metadata": {},
   "outputs": [
    {
     "data": {
      "text/plain": [
       "0    18340\n",
       "1     8117\n",
       "Name: child_num, dtype: int64"
      ]
     },
     "execution_count": 52,
     "metadata": {},
     "output_type": "execute_result"
    }
   ],
   "source": [
    "train['child_num'].value_counts()"
   ]
  },
  {
   "cell_type": "code",
   "execution_count": 53,
   "metadata": {},
   "outputs": [],
   "source": [
    "train['child_num'] = train['child_num'].replace([1,0],['Y','N'])\n",
    "test['child_num'] = test['child_num'].replace([1,0],['Y','N'])"
   ]
  },
  {
   "cell_type": "code",
   "execution_count": 54,
   "metadata": {},
   "outputs": [
    {
     "data": {
      "text/plain": [
       "0        N\n",
       "1        Y\n",
       "2        N\n",
       "3        N\n",
       "4        N\n",
       "        ..\n",
       "26452    Y\n",
       "26453    Y\n",
       "26454    N\n",
       "26455    N\n",
       "26456    N\n",
       "Name: child_num, Length: 26457, dtype: object"
      ]
     },
     "execution_count": 54,
     "metadata": {},
     "output_type": "execute_result"
    }
   ],
   "source": [
    "train['child_num']"
   ]
  },
  {
   "cell_type": "code",
   "execution_count": 55,
   "metadata": {},
   "outputs": [
    {
     "name": "stdout",
     "output_type": "stream",
     "text": [
      "<class 'pandas.core.frame.DataFrame'>\n",
      "RangeIndex: 10000 entries, 0 to 9999\n",
      "Data columns (total 18 columns):\n",
      " #   Column         Non-Null Count  Dtype   \n",
      "---  ------         --------------  -----   \n",
      " 0   index          10000 non-null  int64   \n",
      " 1   gender         10000 non-null  object  \n",
      " 2   car            10000 non-null  object  \n",
      " 3   reality        10000 non-null  object  \n",
      " 4   child_num      10000 non-null  object  \n",
      " 5   income_total   10000 non-null  category\n",
      " 6   income_type    10000 non-null  object  \n",
      " 7   edu_type       10000 non-null  object  \n",
      " 8   family_type    10000 non-null  object  \n",
      " 9   house_type     10000 non-null  object  \n",
      " 10  DAYS_BIRTH     10000 non-null  category\n",
      " 11  DAYS_EMPLOYED  10000 non-null  int64   \n",
      " 12  FLAG_MOBIL     10000 non-null  object  \n",
      " 13  work_phone     10000 non-null  object  \n",
      " 14  phone          10000 non-null  object  \n",
      " 15  email          10000 non-null  object  \n",
      " 16  family_size    10000 non-null  category\n",
      " 17  begin_month    10000 non-null  category\n",
      "dtypes: category(4), int64(2), object(12)\n",
      "memory usage: 1.1+ MB\n"
     ]
    }
   ],
   "source": [
    "test.info()"
   ]
  },
  {
   "cell_type": "markdown",
   "metadata": {},
   "source": [
    "# 10. DAYS_EMPLOYED  => pd.cut 손 봐야함 "
   ]
  },
  {
   "cell_type": "code",
   "execution_count": 163,
   "metadata": {},
   "outputs": [
    {
     "ename": "TypeError",
     "evalue": "Unary negative expects numeric dtype, not category",
     "output_type": "error",
     "traceback": [
      "\u001b[1;31m---------------------------------------------------------------------------\u001b[0m",
      "\u001b[1;31mTypeError\u001b[0m                                 Traceback (most recent call last)",
      "\u001b[1;32m~\\AppData\\Local\\Temp/ipykernel_23228/1305113761.py\u001b[0m in \u001b[0;36m<module>\u001b[1;34m\u001b[0m\n\u001b[1;32m----> 1\u001b[1;33m \u001b[0mtrain\u001b[0m\u001b[1;33m[\u001b[0m\u001b[1;34m'DAYS_EMPLOYED'\u001b[0m\u001b[1;33m]\u001b[0m \u001b[1;33m=\u001b[0m \u001b[1;33m-\u001b[0m\u001b[0mtrain\u001b[0m\u001b[1;33m[\u001b[0m\u001b[1;34m'DAYS_EMPLOYED'\u001b[0m\u001b[1;33m]\u001b[0m\u001b[1;33m\u001b[0m\u001b[1;33m\u001b[0m\u001b[0m\n\u001b[0m\u001b[0;32m      2\u001b[0m \u001b[0mtest\u001b[0m\u001b[1;33m[\u001b[0m\u001b[1;34m'DAYS_EMPLOYED'\u001b[0m\u001b[1;33m]\u001b[0m \u001b[1;33m=\u001b[0m \u001b[1;33m-\u001b[0m\u001b[0mtest\u001b[0m\u001b[1;33m[\u001b[0m\u001b[1;34m'DAYS_EMPLOYED'\u001b[0m\u001b[1;33m]\u001b[0m\u001b[1;33m\u001b[0m\u001b[1;33m\u001b[0m\u001b[0m\n",
      "\u001b[1;32m~\\AppData\\Local\\Programs\\Python\\Python39\\lib\\site-packages\\pandas\\core\\generic.py\u001b[0m in \u001b[0;36m__neg__\u001b[1;34m(self)\u001b[0m\n\u001b[0;32m   1503\u001b[0m             \u001b[0marr\u001b[0m \u001b[1;33m=\u001b[0m \u001b[0moperator\u001b[0m\u001b[1;33m.\u001b[0m\u001b[0mneg\u001b[0m\u001b[1;33m(\u001b[0m\u001b[0mvalues\u001b[0m\u001b[1;33m)\u001b[0m\u001b[1;33m\u001b[0m\u001b[1;33m\u001b[0m\u001b[0m\n\u001b[0;32m   1504\u001b[0m         \u001b[1;32melse\u001b[0m\u001b[1;33m:\u001b[0m\u001b[1;33m\u001b[0m\u001b[1;33m\u001b[0m\u001b[0m\n\u001b[1;32m-> 1505\u001b[1;33m             \u001b[1;32mraise\u001b[0m \u001b[0mTypeError\u001b[0m\u001b[1;33m(\u001b[0m\u001b[1;34mf\"Unary negative expects numeric dtype, not {values.dtype}\"\u001b[0m\u001b[1;33m)\u001b[0m\u001b[1;33m\u001b[0m\u001b[1;33m\u001b[0m\u001b[0m\n\u001b[0m\u001b[0;32m   1506\u001b[0m         \u001b[1;32mreturn\u001b[0m \u001b[0mself\u001b[0m\u001b[1;33m.\u001b[0m\u001b[0m__array_wrap__\u001b[0m\u001b[1;33m(\u001b[0m\u001b[0marr\u001b[0m\u001b[1;33m)\u001b[0m\u001b[1;33m\u001b[0m\u001b[1;33m\u001b[0m\u001b[0m\n\u001b[0;32m   1507\u001b[0m \u001b[1;33m\u001b[0m\u001b[0m\n",
      "\u001b[1;31mTypeError\u001b[0m: Unary negative expects numeric dtype, not category"
     ]
    }
   ],
   "source": [
    "train['DAYS_EMPLOYED'] = -train['DAYS_EMPLOYED']\n",
    "test['DAYS_EMPLOYED'] = -test['DAYS_EMPLOYED']"
   ]
  },
  {
   "cell_type": "code",
   "execution_count": 145,
   "metadata": {},
   "outputs": [
    {
     "data": {
      "text/plain": [
       "-365243    1697\n",
       " 1678        22\n",
       " 1661        21\n",
       " 401         21\n",
       " 2057        20\n",
       "           ... \n",
       " 6359         1\n",
       " 3116         1\n",
       " 1623         1\n",
       " 1505         1\n",
       " 770          1\n",
       "Name: DAYS_EMPLOYED, Length: 2665, dtype: int64"
      ]
     },
     "execution_count": 145,
     "metadata": {},
     "output_type": "execute_result"
    }
   ],
   "source": [
    "test['DAYS_EMPLOYED'].value_counts()"
   ]
  },
  {
   "cell_type": "code",
   "execution_count": 146,
   "metadata": {},
   "outputs": [],
   "source": [
    "train.loc[train['DAYS_EMPLOYED']<0,'DAYS_EMPLOYED']=1\n",
    "test.loc[test['DAYS_EMPLOYED']<0,'DAYS_EMPLOYED']=1      # 일 안 한 애들 다 1로 합쳐버림 (출근한지 1일차)"
   ]
  },
  {
   "cell_type": "code",
   "execution_count": 147,
   "metadata": {},
   "outputs": [
    {
     "data": {
      "text/plain": [
       "<bound method Series.unique of 0        4709\n",
       "1        1540\n",
       "2        4434\n",
       "3        2092\n",
       "4        2105\n",
       "         ... \n",
       "26452    1984\n",
       "26453    2475\n",
       "26454    2015\n",
       "26455     107\n",
       "26456    1013\n",
       "Name: DAYS_EMPLOYED, Length: 26457, dtype: int64>"
      ]
     },
     "execution_count": 147,
     "metadata": {},
     "output_type": "execute_result"
    }
   ],
   "source": [
    "train['DAYS_EMPLOYED'].unique"
   ]
  },
  {
   "cell_type": "code",
   "execution_count": 150,
   "metadata": {},
   "outputs": [],
   "source": [
    "train['DAYS_EMPLOYED'] = pd.cut(train['DAYS_EMPLOYED'], bins=7, labels=['a','b','c','d','e','f','g'])\n",
    "test['DAYS_EMPLOYED'] = pd.cut(test['DAYS_EMPLOYED'], bins=7, labels=['a','b','c','d','e','f','g'])"
   ]
  },
  {
   "cell_type": "code",
   "execution_count": 157,
   "metadata": {},
   "outputs": [],
   "source": [
    "train['DAYS_EMPLOYED'] = train['DAYS_EMPLOYED'].replace({'e' : 'd', 'g' : 'd', 'f' : 'd'})\n",
    "test['DAYS_EMPLOYED'] = test['DAYS_EMPLOYED'].replace({'e' : 'd', 'g' : 'd', 'f' : 'd'})"
   ]
  },
  {
   "cell_type": "code",
   "execution_count": 159,
   "metadata": {},
   "outputs": [
    {
     "data": {
      "text/plain": [
       "a    6169\n",
       "b    2420\n",
       "c     819\n",
       "d     592\n",
       "Name: DAYS_EMPLOYED, dtype: int64"
      ]
     },
     "execution_count": 159,
     "metadata": {},
     "output_type": "execute_result"
    }
   ],
   "source": [
    "train['DAYS_EMPLOYED'].value_counts()\n",
    "test['DAYS_EMPLOYED'].value_counts()"
   ]
  },
  {
   "cell_type": "code",
   "execution_count": 160,
   "metadata": {},
   "outputs": [
    {
     "data": {
      "text/plain": [
       "0        c\n",
       "1        a\n",
       "2        b\n",
       "3        a\n",
       "4        a\n",
       "        ..\n",
       "26452    a\n",
       "26453    b\n",
       "26454    a\n",
       "26455    a\n",
       "26456    a\n",
       "Name: DAYS_EMPLOYED, Length: 26457, dtype: category\n",
       "Categories (4, object): ['a' < 'b' < 'c' < 'd']"
      ]
     },
     "execution_count": 160,
     "metadata": {},
     "output_type": "execute_result"
    }
   ],
   "source": [
    "train['DAYS_EMPLOYED']"
   ]
  },
  {
   "cell_type": "code",
   "execution_count": 156,
   "metadata": {},
   "outputs": [
    {
     "data": {
      "text/plain": [
       "['c', 'a', 'b', 'd']\n",
       "Categories (4, object): ['a' < 'b' < 'c' < 'd']"
      ]
     },
     "execution_count": 156,
     "metadata": {},
     "output_type": "execute_result"
    }
   ],
   "source": [
    "train['DAYS_EMPLOYED'].unique()"
   ]
  },
  {
   "cell_type": "code",
   "execution_count": 158,
   "metadata": {},
   "outputs": [
    {
     "data": {
      "text/plain": [
       "a    16552\n",
       "b     6219\n",
       "c     2120\n",
       "d     1566\n",
       "Name: DAYS_EMPLOYED, dtype: int64"
      ]
     },
     "execution_count": 158,
     "metadata": {},
     "output_type": "execute_result"
    }
   ],
   "source": [
    "train['DAYS_EMPLOYED'].value_counts()"
   ]
  },
  {
   "cell_type": "code",
   "execution_count": 68,
   "metadata": {},
   "outputs": [
    {
     "name": "stdout",
     "output_type": "stream",
     "text": [
      "<class 'pandas.core.frame.DataFrame'>\n",
      "RangeIndex: 26457 entries, 0 to 26456\n",
      "Data columns (total 19 columns):\n",
      " #   Column         Non-Null Count  Dtype   \n",
      "---  ------         --------------  -----   \n",
      " 0   index          26457 non-null  int64   \n",
      " 1   gender         26457 non-null  object  \n",
      " 2   car            26457 non-null  object  \n",
      " 3   reality        26457 non-null  object  \n",
      " 4   child_num      26457 non-null  object  \n",
      " 5   income_total   26457 non-null  category\n",
      " 6   income_type    26457 non-null  object  \n",
      " 7   edu_type       26457 non-null  object  \n",
      " 8   family_type    26457 non-null  object  \n",
      " 9   house_type     26457 non-null  object  \n",
      " 10  DAYS_BIRTH     26457 non-null  category\n",
      " 11  DAYS_EMPLOYED  26457 non-null  category\n",
      " 12  FLAG_MOBIL     26457 non-null  object  \n",
      " 13  work_phone     26457 non-null  object  \n",
      " 14  phone          26457 non-null  object  \n",
      " 15  email          26457 non-null  object  \n",
      " 16  family_size    26457 non-null  category\n",
      " 17  begin_month    26457 non-null  category\n",
      " 18  credit         26457 non-null  float64 \n",
      "dtypes: category(5), float64(1), int64(1), object(12)\n",
      "memory usage: 3.0+ MB\n"
     ]
    }
   ],
   "source": [
    "train.info()"
   ]
  },
  {
   "cell_type": "code",
   "execution_count": 69,
   "metadata": {},
   "outputs": [
    {
     "data": {
      "text/html": [
       "<div>\n",
       "<style scoped>\n",
       "    .dataframe tbody tr th:only-of-type {\n",
       "        vertical-align: middle;\n",
       "    }\n",
       "\n",
       "    .dataframe tbody tr th {\n",
       "        vertical-align: top;\n",
       "    }\n",
       "\n",
       "    .dataframe thead th {\n",
       "        text-align: right;\n",
       "    }\n",
       "</style>\n",
       "<table border=\"1\" class=\"dataframe\">\n",
       "  <thead>\n",
       "    <tr style=\"text-align: right;\">\n",
       "      <th></th>\n",
       "      <th>index</th>\n",
       "      <th>gender</th>\n",
       "      <th>car</th>\n",
       "      <th>reality</th>\n",
       "      <th>child_num</th>\n",
       "      <th>income_total</th>\n",
       "      <th>income_type</th>\n",
       "      <th>edu_type</th>\n",
       "      <th>family_type</th>\n",
       "      <th>house_type</th>\n",
       "      <th>DAYS_BIRTH</th>\n",
       "      <th>DAYS_EMPLOYED</th>\n",
       "      <th>FLAG_MOBIL</th>\n",
       "      <th>work_phone</th>\n",
       "      <th>phone</th>\n",
       "      <th>email</th>\n",
       "      <th>family_size</th>\n",
       "      <th>begin_month</th>\n",
       "      <th>credit</th>\n",
       "    </tr>\n",
       "  </thead>\n",
       "  <tbody>\n",
       "    <tr>\n",
       "      <th>0</th>\n",
       "      <td>0</td>\n",
       "      <td>F</td>\n",
       "      <td>N</td>\n",
       "      <td>N</td>\n",
       "      <td>N</td>\n",
       "      <td>d</td>\n",
       "      <td>Commercial associate</td>\n",
       "      <td>Higher education</td>\n",
       "      <td>Married</td>\n",
       "      <td>Municipal apartment</td>\n",
       "      <td>b</td>\n",
       "      <td>c</td>\n",
       "      <td>Y</td>\n",
       "      <td>N</td>\n",
       "      <td>N</td>\n",
       "      <td>N</td>\n",
       "      <td>b</td>\n",
       "      <td>a</td>\n",
       "      <td>1.0</td>\n",
       "    </tr>\n",
       "    <tr>\n",
       "      <th>1</th>\n",
       "      <td>1</td>\n",
       "      <td>F</td>\n",
       "      <td>N</td>\n",
       "      <td>Y</td>\n",
       "      <td>Y</td>\n",
       "      <td>e</td>\n",
       "      <td>Commercial associate</td>\n",
       "      <td>Secondary / secondary special</td>\n",
       "      <td>Civil marriage</td>\n",
       "      <td>House / apartment</td>\n",
       "      <td>a</td>\n",
       "      <td>a</td>\n",
       "      <td>Y</td>\n",
       "      <td>N</td>\n",
       "      <td>N</td>\n",
       "      <td>Y</td>\n",
       "      <td>c</td>\n",
       "      <td>a</td>\n",
       "      <td>1.0</td>\n",
       "    </tr>\n",
       "    <tr>\n",
       "      <th>2</th>\n",
       "      <td>2</td>\n",
       "      <td>M</td>\n",
       "      <td>Y</td>\n",
       "      <td>Y</td>\n",
       "      <td>N</td>\n",
       "      <td>e</td>\n",
       "      <td>Working</td>\n",
       "      <td>Higher education</td>\n",
       "      <td>Married</td>\n",
       "      <td>House / apartment</td>\n",
       "      <td>d</td>\n",
       "      <td>b</td>\n",
       "      <td>Y</td>\n",
       "      <td>N</td>\n",
       "      <td>Y</td>\n",
       "      <td>N</td>\n",
       "      <td>b</td>\n",
       "      <td>b</td>\n",
       "      <td>2.0</td>\n",
       "    </tr>\n",
       "    <tr>\n",
       "      <th>3</th>\n",
       "      <td>3</td>\n",
       "      <td>F</td>\n",
       "      <td>N</td>\n",
       "      <td>Y</td>\n",
       "      <td>N</td>\n",
       "      <td>d</td>\n",
       "      <td>Commercial associate</td>\n",
       "      <td>Secondary / secondary special</td>\n",
       "      <td>Married</td>\n",
       "      <td>House / apartment</td>\n",
       "      <td>c</td>\n",
       "      <td>a</td>\n",
       "      <td>Y</td>\n",
       "      <td>N</td>\n",
       "      <td>Y</td>\n",
       "      <td>N</td>\n",
       "      <td>b</td>\n",
       "      <td>d</td>\n",
       "      <td>0.0</td>\n",
       "    </tr>\n",
       "    <tr>\n",
       "      <th>4</th>\n",
       "      <td>4</td>\n",
       "      <td>F</td>\n",
       "      <td>Y</td>\n",
       "      <td>Y</td>\n",
       "      <td>N</td>\n",
       "      <td>c</td>\n",
       "      <td>State servant</td>\n",
       "      <td>Higher education</td>\n",
       "      <td>Married</td>\n",
       "      <td>House / apartment</td>\n",
       "      <td>c</td>\n",
       "      <td>a</td>\n",
       "      <td>Y</td>\n",
       "      <td>N</td>\n",
       "      <td>N</td>\n",
       "      <td>N</td>\n",
       "      <td>b</td>\n",
       "      <td>c</td>\n",
       "      <td>2.0</td>\n",
       "    </tr>\n",
       "    <tr>\n",
       "      <th>...</th>\n",
       "      <td>...</td>\n",
       "      <td>...</td>\n",
       "      <td>...</td>\n",
       "      <td>...</td>\n",
       "      <td>...</td>\n",
       "      <td>...</td>\n",
       "      <td>...</td>\n",
       "      <td>...</td>\n",
       "      <td>...</td>\n",
       "      <td>...</td>\n",
       "      <td>...</td>\n",
       "      <td>...</td>\n",
       "      <td>...</td>\n",
       "      <td>...</td>\n",
       "      <td>...</td>\n",
       "      <td>...</td>\n",
       "      <td>...</td>\n",
       "      <td>...</td>\n",
       "      <td>...</td>\n",
       "    </tr>\n",
       "    <tr>\n",
       "      <th>26452</th>\n",
       "      <td>26452</td>\n",
       "      <td>F</td>\n",
       "      <td>N</td>\n",
       "      <td>N</td>\n",
       "      <td>Y</td>\n",
       "      <td>d</td>\n",
       "      <td>State servant</td>\n",
       "      <td>Secondary / secondary special</td>\n",
       "      <td>Married</td>\n",
       "      <td>House / apartment</td>\n",
       "      <td>b</td>\n",
       "      <td>a</td>\n",
       "      <td>Y</td>\n",
       "      <td>N</td>\n",
       "      <td>N</td>\n",
       "      <td>N</td>\n",
       "      <td>d</td>\n",
       "      <td>a</td>\n",
       "      <td>1.0</td>\n",
       "    </tr>\n",
       "    <tr>\n",
       "      <th>26453</th>\n",
       "      <td>26453</td>\n",
       "      <td>F</td>\n",
       "      <td>N</td>\n",
       "      <td>Y</td>\n",
       "      <td>Y</td>\n",
       "      <td>c</td>\n",
       "      <td>Working</td>\n",
       "      <td>Higher education</td>\n",
       "      <td>Separated</td>\n",
       "      <td>House / apartment</td>\n",
       "      <td>c</td>\n",
       "      <td>b</td>\n",
       "      <td>Y</td>\n",
       "      <td>N</td>\n",
       "      <td>N</td>\n",
       "      <td>N</td>\n",
       "      <td>b</td>\n",
       "      <td>d</td>\n",
       "      <td>2.0</td>\n",
       "    </tr>\n",
       "    <tr>\n",
       "      <th>26454</th>\n",
       "      <td>26454</td>\n",
       "      <td>F</td>\n",
       "      <td>Y</td>\n",
       "      <td>N</td>\n",
       "      <td>N</td>\n",
       "      <td>e</td>\n",
       "      <td>Working</td>\n",
       "      <td>Secondary / secondary special</td>\n",
       "      <td>Civil marriage</td>\n",
       "      <td>With parents</td>\n",
       "      <td>a</td>\n",
       "      <td>a</td>\n",
       "      <td>Y</td>\n",
       "      <td>N</td>\n",
       "      <td>N</td>\n",
       "      <td>N</td>\n",
       "      <td>b</td>\n",
       "      <td>c</td>\n",
       "      <td>2.0</td>\n",
       "    </tr>\n",
       "    <tr>\n",
       "      <th>26455</th>\n",
       "      <td>26455</td>\n",
       "      <td>M</td>\n",
       "      <td>N</td>\n",
       "      <td>Y</td>\n",
       "      <td>N</td>\n",
       "      <td>c</td>\n",
       "      <td>Working</td>\n",
       "      <td>Incomplete higher</td>\n",
       "      <td>Single / not married</td>\n",
       "      <td>House / apartment</td>\n",
       "      <td>a</td>\n",
       "      <td>a</td>\n",
       "      <td>Y</td>\n",
       "      <td>N</td>\n",
       "      <td>N</td>\n",
       "      <td>N</td>\n",
       "      <td>a</td>\n",
       "      <td>e</td>\n",
       "      <td>2.0</td>\n",
       "    </tr>\n",
       "    <tr>\n",
       "      <th>26456</th>\n",
       "      <td>26456</td>\n",
       "      <td>F</td>\n",
       "      <td>N</td>\n",
       "      <td>N</td>\n",
       "      <td>N</td>\n",
       "      <td>a</td>\n",
       "      <td>Working</td>\n",
       "      <td>Secondary / secondary special</td>\n",
       "      <td>Civil marriage</td>\n",
       "      <td>House / apartment</td>\n",
       "      <td>d</td>\n",
       "      <td>a</td>\n",
       "      <td>Y</td>\n",
       "      <td>N</td>\n",
       "      <td>N</td>\n",
       "      <td>N</td>\n",
       "      <td>b</td>\n",
       "      <td>a</td>\n",
       "      <td>2.0</td>\n",
       "    </tr>\n",
       "  </tbody>\n",
       "</table>\n",
       "<p>26457 rows × 19 columns</p>\n",
       "</div>"
      ],
      "text/plain": [
       "       index gender car reality child_num income_total           income_type  \\\n",
       "0          0      F   N       N         N            d  Commercial associate   \n",
       "1          1      F   N       Y         Y            e  Commercial associate   \n",
       "2          2      M   Y       Y         N            e               Working   \n",
       "3          3      F   N       Y         N            d  Commercial associate   \n",
       "4          4      F   Y       Y         N            c         State servant   \n",
       "...      ...    ...  ..     ...       ...          ...                   ...   \n",
       "26452  26452      F   N       N         Y            d         State servant   \n",
       "26453  26453      F   N       Y         Y            c               Working   \n",
       "26454  26454      F   Y       N         N            e               Working   \n",
       "26455  26455      M   N       Y         N            c               Working   \n",
       "26456  26456      F   N       N         N            a               Working   \n",
       "\n",
       "                            edu_type           family_type  \\\n",
       "0                   Higher education               Married   \n",
       "1      Secondary / secondary special        Civil marriage   \n",
       "2                   Higher education               Married   \n",
       "3      Secondary / secondary special               Married   \n",
       "4                   Higher education               Married   \n",
       "...                              ...                   ...   \n",
       "26452  Secondary / secondary special               Married   \n",
       "26453               Higher education             Separated   \n",
       "26454  Secondary / secondary special        Civil marriage   \n",
       "26455              Incomplete higher  Single / not married   \n",
       "26456  Secondary / secondary special        Civil marriage   \n",
       "\n",
       "                house_type DAYS_BIRTH DAYS_EMPLOYED FLAG_MOBIL work_phone  \\\n",
       "0      Municipal apartment          b             c          Y          N   \n",
       "1        House / apartment          a             a          Y          N   \n",
       "2        House / apartment          d             b          Y          N   \n",
       "3        House / apartment          c             a          Y          N   \n",
       "4        House / apartment          c             a          Y          N   \n",
       "...                    ...        ...           ...        ...        ...   \n",
       "26452    House / apartment          b             a          Y          N   \n",
       "26453    House / apartment          c             b          Y          N   \n",
       "26454         With parents          a             a          Y          N   \n",
       "26455    House / apartment          a             a          Y          N   \n",
       "26456    House / apartment          d             a          Y          N   \n",
       "\n",
       "      phone email family_size begin_month  credit  \n",
       "0         N     N           b           a     1.0  \n",
       "1         N     Y           c           a     1.0  \n",
       "2         Y     N           b           b     2.0  \n",
       "3         Y     N           b           d     0.0  \n",
       "4         N     N           b           c     2.0  \n",
       "...     ...   ...         ...         ...     ...  \n",
       "26452     N     N           d           a     1.0  \n",
       "26453     N     N           b           d     2.0  \n",
       "26454     N     N           b           c     2.0  \n",
       "26455     N     N           a           e     2.0  \n",
       "26456     N     N           b           a     2.0  \n",
       "\n",
       "[26457 rows x 19 columns]"
      ]
     },
     "execution_count": 69,
     "metadata": {},
     "output_type": "execute_result"
    }
   ],
   "source": [
    "train"
   ]
  },
  {
   "cell_type": "code",
   "execution_count": 161,
   "metadata": {},
   "outputs": [],
   "source": [
    "train_x = train.drop(['index', 'credit'], axis =1)\n",
    "test_x = test.drop('index', axis = 1)\n",
    "train_y = train[['credit']]"
   ]
  },
  {
   "cell_type": "code",
   "execution_count": 162,
   "metadata": {},
   "outputs": [
    {
     "name": "stdout",
     "output_type": "stream",
     "text": [
      "(26457, 18) (26457, 1) (10000, 18)\n"
     ]
    }
   ],
   "source": [
    "print(train_x.shape, train_y.shape, test_x.shape)"
   ]
  },
  {
   "cell_type": "code",
   "execution_count": 72,
   "metadata": {},
   "outputs": [],
   "source": [
    "train_x = pd.get_dummies(train_x, drop_first= True)\n",
    "test_x = pd.get_dummies(test_x, drop_first= True)"
   ]
  },
  {
   "cell_type": "code",
   "execution_count": 73,
   "metadata": {},
   "outputs": [
    {
     "data": {
      "text/plain": [
       "Index(['gender_M', 'car_Y', 'reality_Y', 'child_num_Y', 'income_total_b',\n",
       "       'income_total_c', 'income_total_d', 'income_total_e',\n",
       "       'income_type_Pensioner', 'income_type_State servant',\n",
       "       'income_type_Student', 'income_type_Working',\n",
       "       'edu_type_Higher education', 'edu_type_Incomplete higher',\n",
       "       'edu_type_Lower secondary', 'edu_type_Secondary / secondary special',\n",
       "       'family_type_Married', 'family_type_Separated',\n",
       "       'family_type_Single / not married', 'family_type_Widow',\n",
       "       'house_type_House / apartment', 'house_type_Municipal apartment',\n",
       "       'house_type_Office apartment', 'house_type_Rented apartment',\n",
       "       'house_type_With parents', 'DAYS_BIRTH_b', 'DAYS_BIRTH_c',\n",
       "       'DAYS_BIRTH_d', 'DAYS_BIRTH_e', 'DAYS_EMPLOYED_b', 'DAYS_EMPLOYED_c',\n",
       "       'DAYS_EMPLOYED_d', 'DAYS_EMPLOYED_e', 'DAYS_EMPLOYED_f',\n",
       "       'DAYS_EMPLOYED_g', 'work_phone_Y', 'phone_Y', 'email_Y',\n",
       "       'family_size_b', 'family_size_c', 'family_size_d', 'begin_month_b',\n",
       "       'begin_month_c', 'begin_month_d', 'begin_month_e'],\n",
       "      dtype='object')"
      ]
     },
     "execution_count": 73,
     "metadata": {},
     "output_type": "execute_result"
    }
   ],
   "source": [
    "train_x.columns"
   ]
  },
  {
   "cell_type": "code",
   "execution_count": null,
   "metadata": {},
   "outputs": [],
   "source": [
    "import matplotlib.pyplot as plt\n",
    "\n",
    "\n",
    "plt.figure(figsize=(18,24))\n",
    "plt.barh(X_catdata.columns, cat_pred.get_feature_importance())"
   ]
  },
  {
   "cell_type": "code",
   "execution_count": 74,
   "metadata": {},
   "outputs": [],
   "source": [
    "from sklearn.model_selection import train_test_split"
   ]
  },
  {
   "cell_type": "code",
   "execution_count": null,
   "metadata": {},
   "outputs": [],
   "source": []
  },
  {
   "cell_type": "code",
   "execution_count": 75,
   "metadata": {},
   "outputs": [
    {
     "name": "stdout",
     "output_type": "stream",
     "text": [
      "Train set: \n",
      "(19842, 45)\n",
      "(19842, 1)\n",
      "===========\n",
      "Validation set: \n",
      "(6615, 45)\n",
      "(6615, 1)\n",
      "cat_log_loss: 0.8513907105778518\n"
     ]
    }
   ],
   "source": [
    "#catboost\n",
    "from catboost import CatBoostClassifier\n",
    "from sklearn.metrics import accuracy_score, log_loss\n",
    "from sklearn.metrics import f1_score\n",
    "from tensorflow.keras.utils import to_categorical\n",
    "X_train, X_val, y_train, y_val = train_test_split(train_x, train_y, \n",
    "                                                    stratify=train_y, test_size=0.25,\n",
    "                                                    random_state = 10086)\n",
    "\n",
    "print(\"Train set: \")\n",
    "print(X_train.shape)\n",
    "print(y_train.shape)\n",
    "print(\"===========\")\n",
    "print(\"Validation set: \")\n",
    "print(X_val.shape)\n",
    "print(y_val.shape)\n",
    "\n",
    "\n",
    "\n",
    "#param 조금 수정함 -> 오버피팅 개심함.. 왜지?ㅠㅠ\n",
    "cat_clf=CatBoostClassifier(n_estimators=3000, max_depth=8, random_seed=1042, learning_rate=0.04, bootstrap_type ='Bernoulli')\n",
    "cat_clf.fit(X_train, y_train,early_stopping_rounds=50,silent = True)\n",
    "\n",
    "y_pred=cat_clf.predict_proba(X_val)\n",
    "#proba : 확률로 만듬\n",
    "\n",
    "print(f\"cat_log_loss: {log_loss(to_categorical(y_val['credit']), y_pred)}\")\n"
   ]
  },
  {
   "cell_type": "code",
   "execution_count": 80,
   "metadata": {},
   "outputs": [
    {
     "data": {
      "text/plain": [
       "numpy.ndarray"
      ]
     },
     "execution_count": 80,
     "metadata": {},
     "output_type": "execute_result"
    }
   ],
   "source": [
    "y_pred"
   ]
  },
  {
   "cell_type": "code",
   "execution_count": 81,
   "metadata": {},
   "outputs": [
    {
     "data": {
      "text/plain": [
       "array([5.27634338e+00, 6.13523735e+00, 5.91842579e+00, 1.80919702e+00,\n",
       "       2.60290889e+00, 3.47716796e+00, 2.84513549e+00, 2.98027069e+00,\n",
       "       1.16403605e+00, 1.15407467e+00, 3.32810041e-03, 5.71837545e+00,\n",
       "       3.29144578e+00, 5.20490693e-01, 8.18312482e-02, 3.34150583e+00,\n",
       "       3.36971009e+00, 7.30837615e-01, 1.39442593e+00, 4.09926450e-01,\n",
       "       9.09529798e-01, 3.51586113e-01, 5.85670286e-02, 2.41076164e-01,\n",
       "       4.79301635e-01, 3.10769570e+00, 3.04178392e+00, 2.66696167e+00,\n",
       "       1.39349580e+00, 4.24424387e+00, 1.19505236e+00, 8.39783730e-01,\n",
       "       0.00000000e+00, 0.00000000e+00, 0.00000000e+00, 3.94715482e+00,\n",
       "       5.59836862e+00, 1.56421336e+00, 3.32949663e+00, 1.75904934e+00,\n",
       "       1.18653309e+00, 3.71561219e+00, 3.14468727e+00, 2.81425188e+00,\n",
       "       2.18688057e+00])"
      ]
     },
     "execution_count": 81,
     "metadata": {},
     "output_type": "execute_result"
    }
   ],
   "source": [
    "cat_clf.get_feature_importance()"
   ]
  },
  {
   "cell_type": "code",
   "execution_count": 82,
   "metadata": {},
   "outputs": [
    {
     "data": {
      "text/plain": [
       "<BarContainer object of 45 artists>"
      ]
     },
     "execution_count": 82,
     "metadata": {},
     "output_type": "execute_result"
    },
    {
     "data": {
      "image/png": "[encoded data removed]",
      "text/plain": [
       "<Figure size 1296x1728 with 1 Axes>"
      ]
     },
     "metadata": {
      "needs_background": "light"
     },
     "output_type": "display_data"
    }
   ],
   "source": [
    "import matplotlib.pyplot as plt\n",
    "\n",
    "cat_clf.get_feature_importance()\n",
    "plt.figure(figsize=(18,24))\n",
    "plt.barh(X_train.columns, cat_clf.get_feature_importance())"
   ]
  },
  {
   "cell_type": "code",
   "execution_count": 76,
   "metadata": {},
   "outputs": [
    {
     "name": "stdout",
     "output_type": "stream",
     "text": [
      "FOLD 0 : logloss:0.8687144213039937\n",
      "FOLD 1 : logloss:0.8596441115889201\n",
      "FOLD 2 : logloss:0.8535364731263412\n",
      "FOLD 3 : logloss:0.8396067407177699\n",
      "FOLD 4 : logloss:0.8524198869023334\n",
      "Mean:0.8547843267278716\n"
     ]
    }
   ],
   "source": [
    "from sklearn.model_selection import KFold, StratifiedKFold\n",
    "\n",
    "def run_kfold(clf):\n",
    "    folds=StratifiedKFold(n_splits=5, shuffle=True, random_state=55)\n",
    "    outcomes=[]\n",
    "    sub=np.zeros((test_x.shape[0], 3))  \n",
    "    for n_fold, (train_index, val_index) in enumerate(folds.split(train_x, train_y)):\n",
    "        X_train, X_val = train_x.iloc[train_index], train_x.iloc[val_index]\n",
    "        y_train, y_val = train_y.iloc[train_index], train_y.iloc[val_index]\n",
    "        clf.fit(X_train, y_train, silent = True)\n",
    "        \n",
    "        predictions=clf.predict_proba(X_val)\n",
    "        \n",
    "        logloss=log_loss(to_categorical(y_val['credit']), predictions)\n",
    "        outcomes.append(logloss)\n",
    "        print(f\"FOLD {n_fold} : logloss:{logloss}\")\n",
    "        \n",
    "        sub+=clf.predict_proba(test_x,)\n",
    "        \n",
    "        \n",
    "        \n",
    "    mean_outcome=np.mean(outcomes)\n",
    "    \n",
    "    print(\"Mean:{}\".format(mean_outcome))\n",
    "    return sub/folds.n_splits\n",
    "\n",
    "my_submission = run_kfold(cat_clf)"
   ]
  },
  {
   "cell_type": "code",
   "execution_count": 557,
   "metadata": {},
   "outputs": [
    {
     "name": "stderr",
     "output_type": "stream",
     "text": [
      "C:\\Users\\sally\\AppData\\Local\\Programs\\Python\\Python39\\lib\\site-packages\\pandas\\core\\indexing.py:719: FutureWarning: Slicing a positional slice with .loc is not supported, and will raise TypeError in a future version.  Use .loc with labels or .iloc with positions instead.\n",
      "  indexer = self._get_setitem_indexer(key)\n"
     ]
    }
   ],
   "source": [
    "submission.loc[:,1:] = my_submission"
   ]
  },
  {
   "cell_type": "code",
   "execution_count": 633,
   "metadata": {},
   "outputs": [],
   "source": [
    "submission.to_csv('../Data/Catboost_HJ2.csv', index= False)"
   ]
  },
  {
   "cell_type": "code",
   "execution_count": null,
   "metadata": {},
   "outputs": [],
   "source": []
  }
 ],
 "metadata": {
  "interpreter": {
   "hash": "ae38aae21618c8005c5a91e07f4be75fb513462cafeec314dc0d7a6823adf3fe"
  },
  "kernelspec": {
   "display_name": "Python 3.9.7 64-bit",
   "name": "python3"
  },
  "language_info": {
   "codemirror_mode": {
    "name": "ipython",
    "version": 3
   },
   "file_extension": ".py",
   "mimetype": "text/x-python",
   "name": "python",
   "nbconvert_exporter": "python",
   "pygments_lexer": "ipython3",
   "version": "3.9.7"
  },
  "orig_nbformat": 4
 },
 "nbformat": 4,
 "nbformat_minor": 2
}
